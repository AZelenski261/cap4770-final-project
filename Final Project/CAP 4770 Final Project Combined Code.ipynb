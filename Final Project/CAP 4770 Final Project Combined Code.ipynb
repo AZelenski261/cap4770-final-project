{
 "cells": [
  {
   "cell_type": "code",
   "execution_count": 53,
   "id": "f56bdb80",
   "metadata": {},
   "outputs": [],
   "source": [
    "import warnings\n",
    "warnings.filterwarnings('ignore')\n",
    "    # Supresses Neural Net Warning \"ConvergenceWarning: Stochastic Optimizer: Maximum iterations (200) reached\n",
    "        # and the optimization hasn't converged yet.\"\n",
    "    # Supresses QDA Warning \"UserWarning: Variables are collinear\""
   ]
  },
  {
   "cell_type": "code",
   "execution_count": 77,
   "id": "ce88566f",
   "metadata": {},
   "outputs": [],
   "source": [
    "# data analysis and wrangling\n",
    "import pandas as pd\n",
    "import numpy as np\n",
    "import random as rnd\n",
    "import datetime\n",
    "\n",
    "# visualization\n",
    "import seaborn as sns\n",
    "import matplotlib.pyplot as plt\n",
    "%matplotlib inline\n",
    "\n",
    "# machine learning\n",
    "from sklearn.neighbors import KNeighborsClassifier\n",
    "from sklearn.svm import SVC, LinearSVC, NuSVC\n",
    "from sklearn.gaussian_process import GaussianProcessClassifier\n",
    "from sklearn import tree \n",
    "from sklearn.ensemble import RandomForestClassifier, AdaBoostClassifier\n",
    "from sklearn.neural_network import MLPClassifier\n",
    "from sklearn.naive_bayes import GaussianNB\n",
    "from sklearn.discriminant_analysis import QuadraticDiscriminantAnalysis\n",
    "from sklearn import preprocessing\n",
    "from sklearn import model_selection\n",
    "from sklearn import feature_selection\n",
    "from sklearn import metrics\n",
    "from sklearn.linear_model import LogisticRegression\n",
    "from sklearn.linear_model import Perceptron\n",
    "from sklearn.linear_model import SGDClassifier\n",
    "from sklearn.gaussian_process.kernels import RBF\n",
    "from xgboost import XGBClassifier"
   ]
  },
  {
   "cell_type": "code",
   "execution_count": 55,
   "id": "5bca5a59",
   "metadata": {},
   "outputs": [],
   "source": [
    "# For Numeric and Ordinal values, NOTHING is done, for Categorical values, they are converted to Ordinal values\n",
    "# https://scikit-learn.org/stable/modules/generated/sklearn.preprocessing.OrdinalEncoder.html\n",
    "def preprocessData(dataFrame: pd.DataFrame, columnsToProcess: list) -> np.array:\n",
    "    tempData = []\n",
    "    enc = preprocessing.OrdinalEncoder()\n",
    "\n",
    "    for col in columnsToProcess:\n",
    "        if (col[1] == 'C'):\n",
    "            tempDataArray = enc.fit_transform(dataFrame[[col[0]]])\n",
    "            for i in range(np.shape(tempDataArray)[1]):\n",
    "                tempData.append(tempDataArray[:, i])\n",
    "        else:\n",
    "            tempData.append(dataFrame[col[0]].values)\n",
    "    \n",
    "    return np.stack(tempData, axis=1)"
   ]
  },
  {
   "cell_type": "code",
   "execution_count": 56,
   "id": "c4be4282",
   "metadata": {},
   "outputs": [],
   "source": [
    "#Will ONLY work if the model has a predict function\n",
    "def getPredictions(model, passengerIDsColumn: pd.Series, dataArrayToPredict: np.array) -> pd.DataFrame:\n",
    "    results = []\n",
    "    for i in range(len(dataArrayToPredict)):\n",
    "        results.append(model.predict([dataArrayToPredict[i,:]])[0])\n",
    "    return pd.concat([passengerIDsColumn, pd.DataFrame({'Survived' : results})], axis=1)"
   ]
  },
  {
   "cell_type": "code",
   "execution_count": 57,
   "id": "ec35b50c",
   "metadata": {},
   "outputs": [],
   "source": [
    "def correlation_heatmap(df):\n",
    "    _ , ax = plt.subplots(figsize =(14, 12))\n",
    "    \n",
    "    _ = sns.heatmap(\n",
    "        df.corr(), \n",
    "        square=True, \n",
    "        cbar_kws={'shrink':.9 }, \n",
    "        ax=ax,\n",
    "        annot=True, \n",
    "    )\n",
    "    \n",
    "    plt.title('Pearson Correlation of Features', y=1.05, size=15)"
   ]
  },
  {
   "cell_type": "code",
   "execution_count": 58,
   "id": "5a38ae81",
   "metadata": {},
   "outputs": [],
   "source": [
    "trainData = pd.read_csv('./titanic/train.csv',\n",
    "    usecols=['PassengerId', 'Survived', 'Pclass', 'Name', 'Sex', 'Age', 'SibSp', 'Parch', 'Ticket', 'Fare',\n",
    "             'Cabin', 'Embarked'],\n",
    "    dtype={'PassengerId' : int, 'Survived' : int, 'Pclass' : int, 'Name' : str, 'Sex' : str, 'Age' : float,\n",
    "           'SibSp' : int, 'Parch' : int, 'Ticket' : str, 'Fare' : float, 'Cabin' : str, 'Embarked' : str}\n",
    ")\n",
    "testData = pd.read_csv('./titanic/test.csv',\n",
    "    usecols=['PassengerId', 'Pclass', 'Name', 'Sex', 'Age', 'SibSp', 'Parch', 'Ticket', 'Fare', 'Cabin', 'Embarked'],\n",
    "    dtype={'PassengerId' : int, 'Pclass' : int, 'Name' : str, 'Sex' : str, 'Age' : float, 'SibSp' : int,\n",
    "           'Parch' : int, 'Ticket' : str, 'Fare' : float, 'Cabin' : str, 'Embarked' : str}\n",
    ")"
   ]
  },
  {
   "cell_type": "code",
   "execution_count": 59,
   "id": "2c4efe74",
   "metadata": {},
   "outputs": [],
   "source": [
    "# copy of datasets, originals may be needed for reference\n",
    "trainCopy = trainData.copy(deep = True)\n",
    "testCopy = testData.copy(deep = True)\n",
    "datasets = [trainCopy, testCopy]"
   ]
  },
  {
   "cell_type": "code",
   "execution_count": 60,
   "id": "2faf4dcc",
   "metadata": {},
   "outputs": [
    {
     "name": "stdout",
     "output_type": "stream",
     "text": [
      "Sums of incomplete TRAINING values:\n",
      "PassengerId      0\n",
      "Survived         0\n",
      "Pclass           0\n",
      "Name             0\n",
      "Sex              0\n",
      "Age            177\n",
      "SibSp            0\n",
      "Parch            0\n",
      "Ticket           0\n",
      "Fare             0\n",
      "Cabin          687\n",
      "Embarked         2\n",
      "dtype: int64\n",
      "------------------------------\n",
      "Sums of incomplete TEST values:\n",
      "PassengerId      0\n",
      "Pclass           0\n",
      "Name             0\n",
      "Sex              0\n",
      "Age             86\n",
      "SibSp            0\n",
      "Parch            0\n",
      "Ticket           0\n",
      "Fare             1\n",
      "Cabin          327\n",
      "Embarked         0\n",
      "dtype: int64\n"
     ]
    }
   ],
   "source": [
    "# find incomplete columns\n",
    "print(\"Sums of incomplete TRAINING values:\")\n",
    "print(datasets[0].isnull().sum())\n",
    "print(\"------------------------------\")\n",
    "print(\"Sums of incomplete TEST values:\")\n",
    "print(datasets[1].isnull().sum())"
   ]
  },
  {
   "cell_type": "code",
   "execution_count": 61,
   "id": "8cdafe38",
   "metadata": {},
   "outputs": [],
   "source": [
    "# since Name is a complete feature, we will use it to engineer the \"Title\" feature\n",
    "for dataset in datasets:\n",
    "    dataset['Title'] = dataset['Name'].str.split(\", \", expand=True)[1].str.split(\".\", expand=True)[0]"
   ]
  },
  {
   "cell_type": "code",
   "execution_count": 62,
   "id": "f18c9dd0",
   "metadata": {},
   "outputs": [
    {
     "name": "stdout",
     "output_type": "stream",
     "text": [
      "Titles in TRAIN:\n",
      "Mr              517\n",
      "Miss            182\n",
      "Mrs             125\n",
      "Master           40\n",
      "Dr                7\n",
      "Rev               6\n",
      "Mlle              2\n",
      "Major             2\n",
      "Col               2\n",
      "the Countess      1\n",
      "Capt              1\n",
      "Ms                1\n",
      "Sir               1\n",
      "Lady              1\n",
      "Mme               1\n",
      "Don               1\n",
      "Jonkheer          1\n",
      "Name: Title, dtype: int64\n",
      "-------------------\n",
      "Titles in TEST:\n",
      "Mr        240\n",
      "Miss       78\n",
      "Mrs        72\n",
      "Master     21\n",
      "Col         2\n",
      "Rev         2\n",
      "Ms          1\n",
      "Dr          1\n",
      "Dona        1\n",
      "Name: Title, dtype: int64\n"
     ]
    }
   ],
   "source": [
    "print(\"Titles in TRAIN:\")\n",
    "print(datasets[0]['Title'].value_counts())\n",
    "print(\"-------------------\")\n",
    "print(\"Titles in TEST:\")\n",
    "print(datasets[1]['Title'].value_counts())"
   ]
  },
  {
   "cell_type": "code",
   "execution_count": 63,
   "id": "f7c34f75",
   "metadata": {},
   "outputs": [],
   "source": [
    "# replace \"rare\" (fewer than 10 instances) and foreign titles with english equivalent\n",
    "for dataset in datasets:\n",
    "    dataset['Title'] = dataset['Name'].str.split(\", \", expand=True)[1].str.split(\".\", expand=True)[0]\n",
    "    dataset['Title'] = dataset['Title'].replace(['Lady', 'the Countess','Capt', 'Col', 'Don', 'Dr', 'Major', 'Rev', \n",
    "                                                'Sir', 'Jonkheer', 'Dona'], \n",
    "                                                'Rare')\n",
    "\n",
    "    dataset['Title'] = dataset['Title'].replace('Mlle', 'Miss')\n",
    "    dataset['Title'] = dataset['Title'].replace('Ms', 'Miss')\n",
    "    dataset['Title'] = dataset['Title'].replace('Mme', 'Mrs')"
   ]
  },
  {
   "cell_type": "code",
   "execution_count": 82,
   "id": "55bdae51",
   "metadata": {},
   "outputs": [
    {
     "data": {
      "image/png": "[encoded data removed]",
      "text/plain": [
       "<Figure size 432x288 with 1 Axes>"
      ]
     },
     "metadata": {
      "needs_background": "light"
     },
     "output_type": "display_data"
    }
   ],
   "source": [
    "fig, ax = plt.subplots(figsize =(6, 4))\n",
    "plt.style.use('bmh')\n",
    "ax.bar(datasets[0]['Title'].unique(),datasets[0]['Title'].value_counts())\n",
    "plt.title('Title Value Counts (Training)')\n",
    "plt.ylabel('# Occurrences')\n",
    "plt.xlabel('Title Value')\n",
    "plt.show()"
   ]
  },
  {
   "cell_type": "code",
   "execution_count": 83,
   "id": "b401be18",
   "metadata": {
    "scrolled": false
   },
   "outputs": [
    {
     "data": {
      "image/png": "[encoded data removed]",
      "text/plain": [
       "<Figure size 432x288 with 1 Axes>"
      ]
     },
     "metadata": {
      "needs_background": "light"
     },
     "output_type": "display_data"
    }
   ],
   "source": [
    "fig, ax = plt.subplots(figsize=(6,4))\n",
    "ax.bar(datasets[1]['Title'].unique(),datasets[1]['Title'].value_counts())\n",
    "plt.title('Title Value Counts (Test)')\n",
    "plt.ylabel('# Occurrences')\n",
    "plt.xlabel('Title Value')\n",
    "plt.show()"
   ]
  },
  {
   "cell_type": "code",
   "execution_count": 84,
   "id": "51f42c01",
   "metadata": {},
   "outputs": [],
   "source": [
    "# now that we have the Title attribute, we will complete the Age feature using the\n",
    "# median age associated with each title, and complete the rest of the features\n",
    "for dataset in datasets:\n",
    "    dataset['Age'] = dataset.groupby('Title', as_index = True)['Age'].apply(lambda age: age.fillna(age.median()))\n",
    "    dataset['Fare'] = dataset.groupby('Pclass', as_index = True)['Fare'].apply(lambda fare: fare.fillna(fare.median()))\n",
    "    dataset['Embarked'].fillna(dataset['Embarked'].mode(), inplace = True)"
   ]
  },
  {
   "cell_type": "code",
   "execution_count": 85,
   "id": "2e966fe8",
   "metadata": {},
   "outputs": [],
   "source": [
    "# Feature Engineering\n",
    "    # FamilySize = siblings + spouse + parents + children\n",
    "    # AgeClassInteraction = product of age and passenger class\n",
    "for dataset in datasets:\n",
    "    dataset['FamilySize'] = dataset['SibSp'] + dataset['Parch'] + 1\n",
    "    dataset['AgeClassInteraction'] = dataset['Age'] * dataset['Pclass']"
   ]
  },
  {
   "cell_type": "code",
   "execution_count": 133,
   "id": "63f73334",
   "metadata": {},
   "outputs": [],
   "source": [
    "# Discretization and categorical encoding\n",
    "label = preprocessing.LabelEncoder()\n",
    "for dataset in datasets:  \n",
    "    dataset['FareBin'] = pd.qcut(dataset['Fare'], 5)\n",
    "    dataset['AgeBin'] = pd.cut(dataset['Age'].astype(int), 7)\n",
    "    dataset['AgeClassBin'] = pd.cut(dataset['AgeClassInteraction'].astype(int), 10)\n",
    "    dataset['Sex_Code'] = label.fit_transform(dataset['Sex'])\n",
    "    dataset['Embarked_Code'] = label.fit_transform(dataset['Embarked'])\n",
    "    dataset['Title_Code'] = label.fit_transform(dataset['Title'])\n",
    "    dataset['AgeBin_Code'] = label.fit_transform(dataset['AgeBin'])\n",
    "    dataset['AgeClassBin_Code'] = label.fit_transform(dataset['AgeClassBin'])\n",
    "    dataset['FareBin_Code'] = label.fit_transform(dataset['FareBin'])"
   ]
  },
  {
   "cell_type": "code",
   "execution_count": 71,
   "id": "b7a04f01",
   "metadata": {},
   "outputs": [],
   "source": [
    "# Determine Columns to Use\n",
    "    # List of columns to use in creating the model and the data type\n",
    "    #   'C' - Categorical\n",
    "    #   'N' - Numeric\n",
    "    #   'O' - Ordinal\n",
    "colList = [('Pclass', 'O'), ('Sex_Code', 'C'), ('Age', 'N'), ('SibSp', 'N'), ('Parch', 'N'), ('Fare', 'N'),\n",
    "           ('FamilySize', 'N'), ('AgeClassInteraction', 'N'),\n",
    "           ('Embarked_Code', 'C'), ('Title_Code', 'C'), ('AgeBin_Code', 'C'),\n",
    "           ('FareBin_Code', 'C')]\n"
   ]
  },
  {
   "cell_type": "code",
   "execution_count": 74,
   "id": "18772eb6",
   "metadata": {},
   "outputs": [],
   "source": [
    "# Preprocess Data\n",
    "preprocessedDatasets = [preprocessData(dataset, colList) for dataset in datasets]"
   ]
  },
  {
   "cell_type": "code",
   "execution_count": 78,
   "id": "484034bb",
   "metadata": {},
   "outputs": [],
   "source": [
    "# Create Model(s) #########################################\n",
    "    # Inspiration for Classifier Models was taken from the following page\n",
    "    # https://scikit-learn.org/stable/auto_examples/classification/plot_classifier_comparison.html\n",
    "classifiers = [\n",
    "    (\"Default Nearest Neighbors\", KNeighborsClassifier()),\n",
    "    (\"10 Nearest Neighbors (Brute)\", KNeighborsClassifier(n_neighbors=10, algorithm='brute')),\n",
    "    (\"SVM\", SVC()),\n",
    "    (\"Gaussian Process\", GaussianProcessClassifier()),\n",
    "    (\"Decision Tree\", tree.DecisionTreeClassifier()),\n",
    "    (\"Random Forest\", RandomForestClassifier()),\n",
    "    (\"Neural Net\", MLPClassifier()),\n",
    "    (\"AdaBoost\", AdaBoostClassifier()),\n",
    "    (\"Naive Bayes\", GaussianNB()),\n",
    "    (\"QDA\", QuadraticDiscriminantAnalysis()),\n",
    "    (\"XGB\", XGBClassifier())\n",
    "]\n",
    "\n",
    "models = []\n",
    "for i in range(len(classifiers)):\n",
    "    models.append((classifiers[i][0], classifiers[i][1].fit(preprocessedDatasets[0], datasets[0]['Survived'])))"
   ]
  },
  {
   "cell_type": "code",
   "execution_count": 80,
   "id": "4b22453d",
   "metadata": {},
   "outputs": [],
   "source": [
    "# Get Predictions\n",
    "summaryDF = testData[['PassengerId']].copy(deep=True)\n",
    "resultDFs = [] # List of tuples of Model name, [0], and resulting dataframe (columns PassengerId and Survived), [1]\n",
    "\n",
    "for model in models:\n",
    "    resultDFs.append((model[0], getPredictions(model[1], testData['PassengerId'], preprocessedDatasets[1])))\n",
    "    summaryDF[model[0]] = resultDFs[-1][1]['Survived']"
   ]
  },
  {
   "cell_type": "code",
   "execution_count": null,
   "id": "35e01e35",
   "metadata": {},
   "outputs": [],
   "source": [
    "print(summaryDF.head(10))"
   ]
  },
  {
   "cell_type": "code",
   "execution_count": null,
   "id": "cfaa104e",
   "metadata": {},
   "outputs": [],
   "source": [
    "print('Scoring Models:')\n",
    "results = []\n",
    "for classifier in classifiers:\n",
    "    cv_split = model_selection.ShuffleSplit(n_splits = 10, test_size = .2, train_size = .8, random_state = 0)\n",
    "    cv_results = model_selection.cross_validate(classifier[1], preprocessedDatasets[0], trainCopy['Survived'],\n",
    "                    cv  = cv_split, return_estimator=True)\n",
    "    results.append(cv_results)\n",
    "    score = cv_results['test_score'].max()\n",
    "    print('    ' + classifier[0] + ': ' + str(score))"
   ]
  },
  {
   "cell_type": "code",
   "execution_count": null,
   "id": "6f9ef39f",
   "metadata": {},
   "outputs": [],
   "source": [
    "ada_boost_predictions = results[7]['estimator'][8].fit(preprocessedDatasets[0], trainCopy['Survived']).predict(preprocessedDatasets[0])"
   ]
  },
  {
   "cell_type": "code",
   "execution_count": null,
   "id": "ecd4c4c1",
   "metadata": {},
   "outputs": [],
   "source": [
    "#Plot Accuracy Summary\n",
    "#Credit: http://scikit-learn.org/stable/auto_examples/model_selection/plot_confusion_matrix.html\n",
    "import itertools\n",
    "def plot_confusion_matrix(cm, classes,\n",
    "                          normalize=False,\n",
    "                          title='Confusion matrix',\n",
    "                          cmap=plt.cm.Greens):\n",
    "    if normalize:\n",
    "        cm = cm.astype('float') / cm.sum(axis=1)[:, np.newaxis]\n",
    "        print(\"Normalized confusion matrix\")\n",
    "    else:\n",
    "        print('Confusion matrix, without normalization')\n",
    "\n",
    "    print(cm)\n",
    "\n",
    "    plt.imshow(cm, interpolation='nearest', cmap=cmap)\n",
    "    plt.title(title)\n",
    "    plt.colorbar()\n",
    "    tick_marks = np.arange(len(classes))\n",
    "    plt.xticks(tick_marks, classes, rotation=45)\n",
    "    plt.yticks(tick_marks, classes)\n",
    "\n",
    "    fmt = '.2f' if normalize else 'd'\n",
    "    thresh = cm.max() / 2.\n",
    "    for i, j in itertools.product(range(cm.shape[0]), range(cm.shape[1])):\n",
    "        plt.text(j, i, format(cm[i, j], fmt),\n",
    "                 horizontalalignment=\"center\",\n",
    "                 color=\"white\" if cm[i, j] > thresh else \"black\")\n",
    "\n",
    "    plt.tight_layout()\n",
    "    plt.ylabel('True label')\n",
    "    plt.xlabel('Predicted label')\n",
    "\n",
    "# Compute confusion matrix\n",
    "cnf_matrix = metrics.confusion_matrix(trainCopy['Survived'], ada_boost_predictions)\n",
    "np.set_printoptions(precision=2)\n",
    "\n",
    "class_names = ['Dead', 'Survived']\n",
    "# Plot non-normalized confusion matrix\n",
    "plt.figure()\n",
    "plot_confusion_matrix(cnf_matrix, classes=class_names,\n",
    "                      title='Confusion matrix, without normalization')\n",
    "\n",
    "# Plot normalized confusion matrix\n",
    "plt.figure()\n",
    "plot_confusion_matrix(cnf_matrix, classes=class_names, normalize=True, \n",
    "                      title='Normalized confusion matrix')"
   ]
  },
  {
   "cell_type": "code",
   "execution_count": null,
   "id": "33ae7e2e",
   "metadata": {},
   "outputs": [],
   "source": [
    "# Uncomment to save .csv of all results\n",
    "#summaryDF.to_csv(path_or_buf='modelSummary ' + datetime.datetime.now().strftime(\"%Y-%m-%d at %H.%M.%S\") + '.csv', header=True, index=False, mode='w')"
   ]
  },
  {
   "cell_type": "code",
   "execution_count": null,
   "id": "e6c29656",
   "metadata": {},
   "outputs": [],
   "source": [
    "# Result DataFrame to .csv for Kaggle Submission\n",
    "# Uncomment and specify classifier number to use to save to .csv\n",
    "#resultDFs['Insert Classifier Number'][1].to_csv(path_or_buf='kaggle_submission ' + datetime.datetime.now().strftime(\"%Y-%m-%d at %H.%M.%S\") + '.csv', header=True, index=False, mode='w')"
   ]
  },
  {
   "cell_type": "code",
   "execution_count": 177,
   "id": "a8b02038",
   "metadata": {},
   "outputs": [],
   "source": [
    "target = ['Survived']\n",
    "x = ['Sex','Pclass', 'Embarked', 'Title','SibSp', 'Parch', 'Age', 'Fare', 'FamilySize']\n",
    "x_bin = ['Sex_Code','Pclass', 'Embarked_Code', 'Title_Code', 'FamilySize', 'AgeBin_Code', 'FareBin_Code', 'AgeClassBin_Code']"
   ]
  },
  {
   "cell_type": "code",
   "execution_count": 674,
   "id": "077f45eb",
   "metadata": {
    "scrolled": false
   },
   "outputs": [],
   "source": [
    "# Create Model(s) #########################################\n",
    "    # Inspiration for Classifier Models was taken from the following page\n",
    "    # https://scikit-learn.org/stable/auto_examples/classification/plot_classifier_comparison.html\n",
    "from sklearn import ensemble\n",
    "from sklearn import linear_model\n",
    "from sklearn.naive_bayes import BernoulliNB\n",
    "from sklearn.naive_bayes import GaussianNB\n",
    "from sklearn.tree import ExtraTreeClassifier\n",
    "from sklearn import discriminant_analysis\n",
    "from xgboost import XGBClassifier\n",
    "classifiers = [\n",
    "    ensemble.AdaBoostClassifier(),\n",
    "    ensemble.BaggingClassifier(),\n",
    "    ensemble.ExtraTreesClassifier(),\n",
    "    ensemble.GradientBoostingClassifier(),\n",
    "    ensemble.RandomForestClassifier(),\n",
    "    GaussianProcessClassifier(),\n",
    "    linear_model.LogisticRegressionCV(),\n",
    "    linear_model.PassiveAggressiveClassifier(),\n",
    "    linear_model.RidgeClassifierCV(),\n",
    "    linear_model.SGDClassifier(),\n",
    "    linear_model.Perceptron(),\n",
    "    BernoulliNB(),\n",
    "    GaussianNB(),\n",
    "    KNeighborsClassifier(),\n",
    "    SVC(probability=True),\n",
    "    NuSVC(probability=True),\n",
    "    LinearSVC(),\n",
    "    DecisionTreeClassifier(),\n",
    "    ExtraTreeClassifier(),    \n",
    "    discriminant_analysis.LinearDiscriminantAnalysis(),\n",
    "    discriminant_analysis.QuadraticDiscriminantAnalysis(),\n",
    "    XGBClassifier()    \n",
    "]\n",
    "\n",
    "classifier_cols = ['Name', 'Parameters','Train Accuracy', 'Test Accuracy', 'Time']\n",
    "classifier_compare = pd.DataFrame(columns = classifier_cols)\n",
    "\n",
    "predicts = trainCopy[target]"
   ]
  },
  {
   "cell_type": "code",
   "execution_count": 675,
   "id": "c5f2f584",
   "metadata": {},
   "outputs": [],
   "source": [
    "classifier_cols = ['Name', 'Parameters','Train Accuracy', 'Test Accuracy', 'Time']\n",
    "classifier_compare = pd.DataFrame(columns = classifier_cols)\n",
    "\n",
    "predicts = trainCopy[target]\n",
    "\n",
    "i = 0\n",
    "for classifier in classifiers:\n",
    "\n",
    "    #set name and parameters\n",
    "    classifier_name = classifier.__class__.__name__\n",
    "    classifier_compare.loc[i, 'Name'] = classifier_name\n",
    "    classifier_compare.loc[i, 'Parameters'] = str(classifier.get_params())\n",
    "    \n",
    "    #score model with cross validation: http://scikit-learn.org/stable/modules/generated/sklearn.model_selection.cross_validate.html#sklearn.model_selection.cross_validate\n",
    "    cv_results = model_selection.cross_validate(classifier, trainCopy[x_bin], trainCopy[target], cv  = cv_split, return_train_score=True)\n",
    "\n",
    "    classifier_compare.loc[i, 'Time'] = cv_results['fit_time'].mean()\n",
    "    classifier_compare.loc[i, 'Train Accuracy'] = cv_results['train_score'].mean()\n",
    "    classifier_compare.loc[i, 'Test Accuracy'] = cv_results['test_score'].mean()       \n",
    "\n",
    "    #save MLA predictions - see section 6 for usage\n",
    "    classifier.fit(trainCopy[x_bin], trainCopy[target])\n",
    "    predicts[classifier_name] = classifier.predict(trainCopy[x_bin])\n",
    "    \n",
    "    i+=1\n",
    "\n",
    "    \n",
    "#print and sort table: https://pandas.pydata.org/pandas-docs/stable/generated/pandas.DataFrame.sort_values.html\n",
    "classifier_compare.sort_values(by = ['Test Accuracy'], ascending = False, inplace = True)"
   ]
  },
  {
   "cell_type": "code",
   "execution_count": 676,
   "id": "5b3bf7f8",
   "metadata": {},
   "outputs": [
    {
     "data": {
      "text/html": [
       "<div>\n",
       "<style scoped>\n",
       "    .dataframe tbody tr th:only-of-type {\n",
       "        vertical-align: middle;\n",
       "    }\n",
       "\n",
       "    .dataframe tbody tr th {\n",
       "        vertical-align: top;\n",
       "    }\n",
       "\n",
       "    .dataframe thead th {\n",
       "        text-align: right;\n",
       "    }\n",
       "</style>\n",
       "<table border=\"1\" class=\"dataframe\">\n",
       "  <thead>\n",
       "    <tr style=\"text-align: right;\">\n",
       "      <th></th>\n",
       "      <th>Name</th>\n",
       "      <th>Parameters</th>\n",
       "      <th>Train Accuracy</th>\n",
       "      <th>Test Accuracy</th>\n",
       "      <th>Time</th>\n",
       "    </tr>\n",
       "  </thead>\n",
       "  <tbody>\n",
       "    <tr>\n",
       "      <th>14</th>\n",
       "      <td>SVC</td>\n",
       "      <td>{'C': 1.0, 'break_ties': False, 'cache_size': ...</td>\n",
       "      <td>0.832725</td>\n",
       "      <td>0.830726</td>\n",
       "      <td>0.031075</td>\n",
       "    </tr>\n",
       "    <tr>\n",
       "      <th>15</th>\n",
       "      <td>NuSVC</td>\n",
       "      <td>{'break_ties': False, 'cache_size': 200, 'clas...</td>\n",
       "      <td>0.829775</td>\n",
       "      <td>0.828492</td>\n",
       "      <td>0.035938</td>\n",
       "    </tr>\n",
       "    <tr>\n",
       "      <th>3</th>\n",
       "      <td>GradientBoostingClassifier</td>\n",
       "      <td>{'ccp_alpha': 0.0, 'criterion': 'friedman_mse'...</td>\n",
       "      <td>0.858708</td>\n",
       "      <td>0.82514</td>\n",
       "      <td>0.031894</td>\n",
       "    </tr>\n",
       "    <tr>\n",
       "      <th>0</th>\n",
       "      <td>AdaBoostClassifier</td>\n",
       "      <td>{'algorithm': 'SAMME.R', 'base_estimator': Non...</td>\n",
       "      <td>0.819803</td>\n",
       "      <td>0.820112</td>\n",
       "      <td>0.025251</td>\n",
       "    </tr>\n",
       "    <tr>\n",
       "      <th>21</th>\n",
       "      <td>XGBClassifier</td>\n",
       "      <td>{'objective': 'binary:logistic', 'use_label_en...</td>\n",
       "      <td>0.897612</td>\n",
       "      <td>0.820112</td>\n",
       "      <td>0.050021</td>\n",
       "    </tr>\n",
       "    <tr>\n",
       "      <th>4</th>\n",
       "      <td>RandomForestClassifier</td>\n",
       "      <td>{'bootstrap': True, 'ccp_alpha': 0.0, 'class_w...</td>\n",
       "      <td>0.902107</td>\n",
       "      <td>0.817877</td>\n",
       "      <td>0.048723</td>\n",
       "    </tr>\n",
       "    <tr>\n",
       "      <th>20</th>\n",
       "      <td>QuadraticDiscriminantAnalysis</td>\n",
       "      <td>{'priors': None, 'reg_param': 0.0, 'store_cova...</td>\n",
       "      <td>0.820927</td>\n",
       "      <td>0.817318</td>\n",
       "      <td>0.001045</td>\n",
       "    </tr>\n",
       "    <tr>\n",
       "      <th>17</th>\n",
       "      <td>DecisionTreeClassifier</td>\n",
       "      <td>{'ccp_alpha': 0.0, 'class_weight': None, 'crit...</td>\n",
       "      <td>0.902247</td>\n",
       "      <td>0.81676</td>\n",
       "      <td>0.001005</td>\n",
       "    </tr>\n",
       "    <tr>\n",
       "      <th>2</th>\n",
       "      <td>ExtraTreesClassifier</td>\n",
       "      <td>{'bootstrap': False, 'ccp_alpha': 0.0, 'class_...</td>\n",
       "      <td>0.902247</td>\n",
       "      <td>0.815642</td>\n",
       "      <td>0.041825</td>\n",
       "    </tr>\n",
       "    <tr>\n",
       "      <th>18</th>\n",
       "      <td>ExtraTreeClassifier</td>\n",
       "      <td>{'ccp_alpha': 0.0, 'class_weight': None, 'crit...</td>\n",
       "      <td>0.902247</td>\n",
       "      <td>0.813966</td>\n",
       "      <td>0.000756</td>\n",
       "    </tr>\n",
       "    <tr>\n",
       "      <th>1</th>\n",
       "      <td>BaggingClassifier</td>\n",
       "      <td>{'base_estimator': None, 'bootstrap': True, 'b...</td>\n",
       "      <td>0.897472</td>\n",
       "      <td>0.813966</td>\n",
       "      <td>0.007567</td>\n",
       "    </tr>\n",
       "    <tr>\n",
       "      <th>13</th>\n",
       "      <td>KNeighborsClassifier</td>\n",
       "      <td>{'algorithm': 'auto', 'leaf_size': 30, 'metric...</td>\n",
       "      <td>0.842978</td>\n",
       "      <td>0.805587</td>\n",
       "      <td>0.000742</td>\n",
       "    </tr>\n",
       "    <tr>\n",
       "      <th>5</th>\n",
       "      <td>GaussianProcessClassifier</td>\n",
       "      <td>{'copy_X_train': True, 'kernel': None, 'max_it...</td>\n",
       "      <td>0.873315</td>\n",
       "      <td>0.800559</td>\n",
       "      <td>2.116196</td>\n",
       "    </tr>\n",
       "    <tr>\n",
       "      <th>12</th>\n",
       "      <td>GaussianNB</td>\n",
       "      <td>{'priors': None, 'var_smoothing': 1e-09}</td>\n",
       "      <td>0.792978</td>\n",
       "      <td>0.800559</td>\n",
       "      <td>0.000543</td>\n",
       "    </tr>\n",
       "    <tr>\n",
       "      <th>19</th>\n",
       "      <td>LinearDiscriminantAnalysis</td>\n",
       "      <td>{'covariance_estimator': None, 'n_components':...</td>\n",
       "      <td>0.791011</td>\n",
       "      <td>0.796089</td>\n",
       "      <td>0.000857</td>\n",
       "    </tr>\n",
       "    <tr>\n",
       "      <th>8</th>\n",
       "      <td>RidgeClassifierCV</td>\n",
       "      <td>{'alphas': array([ 0.1,  1. , 10. ]), 'class_w...</td>\n",
       "      <td>0.792135</td>\n",
       "      <td>0.795531</td>\n",
       "      <td>0.001466</td>\n",
       "    </tr>\n",
       "    <tr>\n",
       "      <th>16</th>\n",
       "      <td>LinearSVC</td>\n",
       "      <td>{'C': 1.0, 'class_weight': None, 'dual': True,...</td>\n",
       "      <td>0.791011</td>\n",
       "      <td>0.794413</td>\n",
       "      <td>0.021608</td>\n",
       "    </tr>\n",
       "    <tr>\n",
       "      <th>6</th>\n",
       "      <td>LogisticRegressionCV</td>\n",
       "      <td>{'Cs': 10, 'class_weight': None, 'cv': None, '...</td>\n",
       "      <td>0.786798</td>\n",
       "      <td>0.786592</td>\n",
       "      <td>0.066982</td>\n",
       "    </tr>\n",
       "    <tr>\n",
       "      <th>11</th>\n",
       "      <td>BernoulliNB</td>\n",
       "      <td>{'alpha': 1.0, 'binarize': 0.0, 'class_prior':...</td>\n",
       "      <td>0.786517</td>\n",
       "      <td>0.775978</td>\n",
       "      <td>0.000625</td>\n",
       "    </tr>\n",
       "    <tr>\n",
       "      <th>9</th>\n",
       "      <td>SGDClassifier</td>\n",
       "      <td>{'alpha': 0.0001, 'average': False, 'class_wei...</td>\n",
       "      <td>0.719382</td>\n",
       "      <td>0.703352</td>\n",
       "      <td>0.001717</td>\n",
       "    </tr>\n",
       "    <tr>\n",
       "      <th>10</th>\n",
       "      <td>Perceptron</td>\n",
       "      <td>{'alpha': 0.0001, 'class_weight': None, 'early...</td>\n",
       "      <td>0.69059</td>\n",
       "      <td>0.688827</td>\n",
       "      <td>0.000772</td>\n",
       "    </tr>\n",
       "    <tr>\n",
       "      <th>7</th>\n",
       "      <td>PassiveAggressiveClassifier</td>\n",
       "      <td>{'C': 1.0, 'average': False, 'class_weight': N...</td>\n",
       "      <td>0.584691</td>\n",
       "      <td>0.587151</td>\n",
       "      <td>0.001133</td>\n",
       "    </tr>\n",
       "  </tbody>\n",
       "</table>\n",
       "</div>"
      ],
      "text/plain": [
       "                             Name  \\\n",
       "14                            SVC   \n",
       "15                          NuSVC   \n",
       "3      GradientBoostingClassifier   \n",
       "0              AdaBoostClassifier   \n",
       "21                  XGBClassifier   \n",
       "4          RandomForestClassifier   \n",
       "20  QuadraticDiscriminantAnalysis   \n",
       "17         DecisionTreeClassifier   \n",
       "2            ExtraTreesClassifier   \n",
       "18            ExtraTreeClassifier   \n",
       "1               BaggingClassifier   \n",
       "13           KNeighborsClassifier   \n",
       "5       GaussianProcessClassifier   \n",
       "12                     GaussianNB   \n",
       "19     LinearDiscriminantAnalysis   \n",
       "8               RidgeClassifierCV   \n",
       "16                      LinearSVC   \n",
       "6            LogisticRegressionCV   \n",
       "11                    BernoulliNB   \n",
       "9                   SGDClassifier   \n",
       "10                     Perceptron   \n",
       "7     PassiveAggressiveClassifier   \n",
       "\n",
       "                                           Parameters Train Accuracy  \\\n",
       "14  {'C': 1.0, 'break_ties': False, 'cache_size': ...       0.832725   \n",
       "15  {'break_ties': False, 'cache_size': 200, 'clas...       0.829775   \n",
       "3   {'ccp_alpha': 0.0, 'criterion': 'friedman_mse'...       0.858708   \n",
       "0   {'algorithm': 'SAMME.R', 'base_estimator': Non...       0.819803   \n",
       "21  {'objective': 'binary:logistic', 'use_label_en...       0.897612   \n",
       "4   {'bootstrap': True, 'ccp_alpha': 0.0, 'class_w...       0.902107   \n",
       "20  {'priors': None, 'reg_param': 0.0, 'store_cova...       0.820927   \n",
       "17  {'ccp_alpha': 0.0, 'class_weight': None, 'crit...       0.902247   \n",
       "2   {'bootstrap': False, 'ccp_alpha': 0.0, 'class_...       0.902247   \n",
       "18  {'ccp_alpha': 0.0, 'class_weight': None, 'crit...       0.902247   \n",
       "1   {'base_estimator': None, 'bootstrap': True, 'b...       0.897472   \n",
       "13  {'algorithm': 'auto', 'leaf_size': 30, 'metric...       0.842978   \n",
       "5   {'copy_X_train': True, 'kernel': None, 'max_it...       0.873315   \n",
       "12           {'priors': None, 'var_smoothing': 1e-09}       0.792978   \n",
       "19  {'covariance_estimator': None, 'n_components':...       0.791011   \n",
       "8   {'alphas': array([ 0.1,  1. , 10. ]), 'class_w...       0.792135   \n",
       "16  {'C': 1.0, 'class_weight': None, 'dual': True,...       0.791011   \n",
       "6   {'Cs': 10, 'class_weight': None, 'cv': None, '...       0.786798   \n",
       "11  {'alpha': 1.0, 'binarize': 0.0, 'class_prior':...       0.786517   \n",
       "9   {'alpha': 0.0001, 'average': False, 'class_wei...       0.719382   \n",
       "10  {'alpha': 0.0001, 'class_weight': None, 'early...        0.69059   \n",
       "7   {'C': 1.0, 'average': False, 'class_weight': N...       0.584691   \n",
       "\n",
       "   Test Accuracy      Time  \n",
       "14      0.830726  0.031075  \n",
       "15      0.828492  0.035938  \n",
       "3        0.82514  0.031894  \n",
       "0       0.820112  0.025251  \n",
       "21      0.820112  0.050021  \n",
       "4       0.817877  0.048723  \n",
       "20      0.817318  0.001045  \n",
       "17       0.81676  0.001005  \n",
       "2       0.815642  0.041825  \n",
       "18      0.813966  0.000756  \n",
       "1       0.813966  0.007567  \n",
       "13      0.805587  0.000742  \n",
       "5       0.800559  2.116196  \n",
       "12      0.800559  0.000543  \n",
       "19      0.796089  0.000857  \n",
       "8       0.795531  0.001466  \n",
       "16      0.794413  0.021608  \n",
       "6       0.786592  0.066982  \n",
       "11      0.775978  0.000625  \n",
       "9       0.703352  0.001717  \n",
       "10      0.688827  0.000772  \n",
       "7       0.587151  0.001133  "
      ]
     },
     "execution_count": 676,
     "metadata": {},
     "output_type": "execute_result"
    }
   ],
   "source": [
    "classifier_compare"
   ]
  },
  {
   "cell_type": "code",
   "execution_count": 705,
   "id": "ea934cf0",
   "metadata": {
    "scrolled": true
   },
   "outputs": [
    {
     "name": "stdout",
     "output_type": "stream",
     "text": [
      "mean TRAIN score for default tree:  0.902247191011236\n",
      "mean TEST score for default tree:  0.8184357541899441\n"
     ]
    }
   ],
   "source": []
  },
  {
   "cell_type": "code",
   "execution_count": 702,
   "id": "7594f245",
   "metadata": {},
   "outputs": [
    {
     "data": {
      "text/plain": [
       "GridSearchCV(cv=ShuffleSplit(n_splits=10, random_state=0, test_size=0.2, train_size=0.8),\n",
       "             estimator=DecisionTreeClassifier(),\n",
       "             param_grid={'criterion': ['gini', 'entropy'],\n",
       "                         'max_depth': [2, 4, 6, 8, 10, None],\n",
       "                         'max_features': [None, 'auto', 'all'],\n",
       "                         'min_samples_leaf': [1, 5, 10, 0.03, 0.05],\n",
       "                         'min_samples_split': [2, 5, 10, 0.03, 0.05],\n",
       "                         'splitter': ['best', 'random']},\n",
       "             return_train_score=True, scoring='roc_auc')"
      ]
     },
     "execution_count": 702,
     "metadata": {},
     "output_type": "execute_result"
    }
   ],
   "source": []
  },
  {
   "cell_type": "code",
   "execution_count": 174,
   "id": "9d996f10",
   "metadata": {},
   "outputs": [
    {
     "name": "stdout",
     "output_type": "stream",
     "text": [
      "mean TRAIN score for default tree:  0.9144662921348313\n",
      "mean TEST score for default tree:  0.8128491620111733\n",
      "\n",
      "best params for tuned tree:\n",
      "-------------------------\n",
      "criterion: gini\n",
      "max_depth: None\n",
      "max_features: None\n",
      "min_samples_leaf: 10\n",
      "min_samples_split: 0.05\n",
      "random_state: 0\n",
      "splitter: best\n",
      "CPU times: user 34.6 s, sys: 167 ms, total: 34.8 s\n",
      "Wall time: 34.8 s\n",
      "\n",
      "best params for tuned rfe_tree:\n",
      "-------------------------\n",
      "criterion: gini\n",
      "max_depth: 6\n",
      "max_features: None\n",
      "min_samples_leaf: 10\n",
      "min_samples_split: 2\n",
      "random_state: 0\n",
      "splitter: best\n",
      "-------------------------\n",
      "\n",
      "columns:  ['Sex_Code' 'Pclass' 'Title_Code' 'FamilySize' 'FareBin_Code'\n",
      " 'AgeClassBin_Code']\n",
      "\n",
      "\tfeature(s) eliminated:\n",
      "\t\t Embarked_Code\n",
      "\t\t AgeBin_Code\n"
     ]
    }
   ],
   "source": [
    "######## Tuning/Hypertuning Decision Tree Params/Hyperparams #########\n",
    "\n",
    "cv_split = model_selection.ShuffleSplit(\n",
    "                                            n_splits = 10, \n",
    "                                            test_size = .2, \n",
    "                                            train_size = .8, \n",
    "                                            random_state = 0\n",
    "                                       )\n",
    "\n",
    "# DTC with default params\n",
    "default_tree = tree.DecisionTreeClassifier(random_state = 0)\n",
    "\n",
    "initial_results = model_selection.cross_validate(\n",
    "                                                     default_tree, \n",
    "                                                     trainCopy[x_bin], \n",
    "                                                     trainCopy[target], \n",
    "                                                     cv  = cv_split, \n",
    "                                                     return_train_score=True\n",
    "                                                )\n",
    "default_tree.fit(trainCopy[x_bin], trainCopy[target])\n",
    "print('mean TRAIN score for default tree: ', initial_results['train_score'].mean())\n",
    "print('mean TEST score for default tree: ', initial_results['test_score'].mean())\n",
    "\n",
    "params = {\n",
    "            'criterion': ['gini', 'entropy'],\n",
    "            'splitter': ['best', 'random'],\n",
    "            'max_depth': [2,4,6,8,10,None],\n",
    "            'min_samples_split': [2,5,10,.03,.05],\n",
    "            'min_samples_leaf': [1,5,10,.03,.05],\n",
    "            'max_features': [None, 'auto', 'all'],\n",
    "            'random_state': [0]\n",
    "         }\n",
    "tuned_tree = model_selection.GridSearchCV(\n",
    "                                              tree.DecisionTreeClassifier(), \n",
    "                                              param_grid=params, \n",
    "                                              scoring = 'roc_auc', \n",
    "                                              cv = cv_split,\n",
    "                                              return_train_score=True,\n",
    "                                         )\n",
    "tuned_tree.fit(trainCopy[x_bin], trainCopy[target])\n",
    "\n",
    "\n",
    "print('\\nbest params for tuned tree:\\n' + 25*'-')\n",
    "for key, value in tuned_tree.best_params_.items():\n",
    "    print(key + ': ' + str(value))\n",
    "\n",
    "# Using recursive feature elimination (RFE) with cross-validation to further refine model\n",
    "# (from https://scikit-learn.org/stable/modules/generated/sklearn.feature_selection.RFECV.html#sklearn.feature_selection.RFECV)\n",
    "\n",
    "\n",
    "# feature selection w cross validation\n",
    "rfe_tree = feature_selection.RFECV(default_tree, step = 1, cv = cv_split, scoring = 'accuracy')\n",
    "rfe_tree.fit(trainCopy[x_bin], trainCopy[target])\n",
    "\n",
    "# new features list\n",
    "x_rfe = trainCopy[x_bin].columns.values[rfe_tree.get_support()]\n",
    "rfe_results = model_selection.cross_validate(default_tree, trainCopy[x_rfe], trainCopy[target], cv  = cv_split, return_train_score=True)\n",
    "\n",
    "# Tune rfe_tree\n",
    "rfe_tuned = model_selection.GridSearchCV(tree.DecisionTreeClassifier(), param_grid=params, scoring='roc_auc', cv = cv_split, return_train_score=True)\n",
    "%time rfe_tuned.fit(trainCopy[x_rfe], trainCopy[target])\n",
    "\n",
    "print('\\nbest params for tuned rfe_tree:\\n' + 25*'-')\n",
    "for key, value in rfe_tuned.best_params_.items():\n",
    "    print(key + ': ' + str(value))\n",
    "print(25*'-' + '\\n')\n",
    "\n",
    "print('columns: ', x_rfe)\n",
    "print('\\n\\tfeature(s) eliminated:')\n",
    "flag = False\n",
    "for i in trainCopy[x_bin].columns.values:\n",
    "    if (x_rfe.tolist().count(i) == 0):\n",
    "        flag=True\n",
    "        print('\\t\\t', i)\n",
    "if flag == False:\n",
    "    print('\\t\\tNone')\n",
    "        "
   ]
  },
  {
   "cell_type": "code",
   "execution_count": 175,
   "id": "41d1b378",
   "metadata": {},
   "outputs": [],
   "source": [
    "# print('mean TRAIN score for default tree: ', initial_results['train_score'].mean())\n",
    "# print('mean TEST score for default tree: ', initial_results['test_score'].mean())\n",
    "default_train = ['Default (Train)', initial_results['train_score'].mean()]\n",
    "default_test = ['Default (Test)', initial_results['test_score'].mean()]\n",
    "tuned_train = ['Hypertuned (Train)', tuned_tree.cv_results_['mean_train_score'][tuned_tree.best_index_]]\n",
    "tuned_test = ['Hypertuned (Test)', tuned_tree.cv_results_['mean_test_score'][tuned_tree.best_index_]]\n",
    "rfe_train = ['RFE (Train)', rfe_tuned.cv_results_['mean_train_score'][rfe_tuned.best_index_]]\n",
    "rfe_test = ['RFE (Test)', rfe_tuned.cv_results_['mean_test_score'][rfe_tuned.best_index_]]\n",
    "scores = [default_train, default_test, tuned_train, tuned_test, rfe_train, rfe_test]"
   ]
  },
  {
   "cell_type": "code",
   "execution_count": 172,
   "id": "dc928f45",
   "metadata": {},
   "outputs": [
    {
     "data": {
      "text/plain": [
       "[['Default (Train)', 0.902247191011236],\n",
       " ['Default (Test)', 0.8184357541899441],\n",
       " ['Hypertuned (Train)', 0.8877836968847321],\n",
       " ['Hypertuned (Test)', 0.8829916382463429],\n",
       " ['RFE (Train)', 0.8877836968847321],\n",
       " ['RFE (Test)', 0.8829916382463429]]"
      ]
     },
     "execution_count": 172,
     "metadata": {},
     "output_type": "execute_result"
    }
   ],
   "source": [
    "scores"
   ]
  },
  {
   "cell_type": "code",
   "execution_count": 176,
   "id": "f34e5166",
   "metadata": {},
   "outputs": [
    {
     "data": {
      "text/plain": [
       "[['Default (Train)', 0.9144662921348313],\n",
       " ['Default (Test)', 0.8128491620111733],\n",
       " ['Hypertuned (Train)', 0.9091520876534934],\n",
       " ['Hypertuned (Test)', 0.8901149178262692],\n",
       " ['RFE (Train)', 0.9001799613831467],\n",
       " ['RFE (Test)', 0.8918789084537833]]"
      ]
     },
     "execution_count": 176,
     "metadata": {},
     "output_type": "execute_result"
    }
   ],
   "source": [
    "scores"
   ]
  },
  {
   "cell_type": "code",
   "execution_count": 156,
   "id": "e49006c1",
   "metadata": {},
   "outputs": [
    {
     "name": "stdout",
     "output_type": "stream",
     "text": [
      "----------------------------------- Before RFE -----------------------------------\n",
      "columns:  ['Sex_Code' 'Pclass' 'Embarked_Code' 'Title_Code' 'FamilySize'\n",
      " 'AgeBin_Code' 'FareBin_Code']\n",
      "-------------------------\n",
      "\n"
     ]
    },
    {
     "ename": "IndexError",
     "evalue": "Replacement index 0 out of range for positional args tuple",
     "output_type": "error",
     "traceback": [
      "\u001b[0;31m---------------------------------------------------------------------------\u001b[0m",
      "\u001b[0;31mIndexError\u001b[0m                                Traceback (most recent call last)",
      "Input \u001b[0;32mIn [156]\u001b[0m, in \u001b[0;36m<cell line: 6>\u001b[0;34m()\u001b[0m\n\u001b[1;32m      2\u001b[0m \u001b[38;5;28mprint\u001b[39m(\u001b[38;5;124m'\u001b[39m\u001b[38;5;124mcolumns: \u001b[39m\u001b[38;5;124m'\u001b[39m, trainCopy[x_bin]\u001b[38;5;241m.\u001b[39mcolumns\u001b[38;5;241m.\u001b[39mvalues)\n\u001b[1;32m      4\u001b[0m \u001b[38;5;28mprint\u001b[39m(\u001b[38;5;241m25\u001b[39m\u001b[38;5;241m*\u001b[39m\u001b[38;5;124m'\u001b[39m\u001b[38;5;124m-\u001b[39m\u001b[38;5;124m'\u001b[39m \u001b[38;5;241m+\u001b[39m \u001b[38;5;124m'\u001b[39m\u001b[38;5;130;01m\\n\u001b[39;00m\u001b[38;5;124m'\u001b[39m)\n\u001b[0;32m----> 6\u001b[0m \u001b[38;5;28mprint\u001b[39m(\u001b[38;5;124;43m'\u001b[39;49m\u001b[38;5;130;43;01m\\n\u001b[39;49;00m\u001b[38;5;124;43mmean TRAIN score: \u001b[39;49m\u001b[38;5;132;43;01m{:.4f}\u001b[39;49;00m\u001b[38;5;124;43m'\u001b[39;49m\u001b[38;5;241;43m.\u001b[39;49m\u001b[43mformat\u001b[49m\u001b[43m(\u001b[49m\u001b[43m)\u001b[49m)\n\u001b[1;32m      7\u001b[0m \u001b[38;5;28mprint\u001b[39m(\u001b[38;5;124m'\u001b[39m\u001b[38;5;124mmean TEST score: \u001b[39m\u001b[38;5;132;01m{:.4f}\u001b[39;00m\u001b[38;5;124m'\u001b[39m\u001b[38;5;241m.\u001b[39mformat(tuned_tree\u001b[38;5;241m.\u001b[39mcv_results_[\u001b[38;5;124m'\u001b[39m\u001b[38;5;124mmean_test_score\u001b[39m\u001b[38;5;124m'\u001b[39m][tuned_tree\u001b[38;5;241m.\u001b[39mbest_index_]))\n\u001b[1;32m      8\u001b[0m \u001b[38;5;28mprint\u001b[39m(\u001b[38;5;124m'\u001b[39m\u001b[38;5;130;01m\\n\u001b[39;00m\u001b[38;5;124m'\u001b[39m \u001b[38;5;241m+\u001b[39m \u001b[38;5;241m35\u001b[39m\u001b[38;5;241m*\u001b[39m\u001b[38;5;124m'\u001b[39m\u001b[38;5;124m-\u001b[39m\u001b[38;5;124m'\u001b[39m \u001b[38;5;241m+\u001b[39m \u001b[38;5;124m'\u001b[39m\u001b[38;5;124m After  RFE \u001b[39m\u001b[38;5;124m'\u001b[39m \u001b[38;5;241m+\u001b[39m \u001b[38;5;241m35\u001b[39m\u001b[38;5;241m*\u001b[39m\u001b[38;5;124m'\u001b[39m\u001b[38;5;124m-\u001b[39m\u001b[38;5;124m'\u001b[39m)\n",
      "\u001b[0;31mIndexError\u001b[0m: Replacement index 0 out of range for positional args tuple"
     ]
    }
   ],
   "source": [
    "print(35*'-' + ' Before RFE ' + 35*'-')\n",
    "print('columns: ', trainCopy[x_bin].columns.values)\n",
    "\n",
    "print(25*'-' + '\\n')\n",
    "\n",
    "print('\\nmean TRAIN score: {:.4f}'.format())\n",
    "print('mean TEST score: {:.4f}'.format(tuned_tree.cv_results_['mean_test_score'][tuned_tree.best_index_]))\n",
    "print('\\n' + 35*'-' + ' After  RFE ' + 35*'-')\n",
    "\n",
    "\n",
    "\n",
    "\n",
    "print('mean TRAIN score for tuned rfe_tree: {:.4f}'.format(rfe_tuned.cv_results_['mean_train_score'][rfe_tuned.best_index_]))\n",
    "print('mean TEST score for tuned rfe_tree: {:.4f}'.format(rfe_tuned.cv_results_['mean_test_score'][rfe_tuned.best_index_]))\n",
    "print('\\nDifference of {:.4f} with RFE...'.format(rfe_tuned.cv_results_['mean_test_score'][rfe_tuned.best_index_] - tuned_tree.cv_results_['mean_test_score'][tuned_tree.best_index_]))"
   ]
  },
  {
   "cell_type": "code",
   "execution_count": 697,
   "id": "5d33f9f8",
   "metadata": {},
   "outputs": [
    {
     "name": "stdout",
     "output_type": "stream",
     "text": [
      "CPU times: user 22.5 s, sys: 4.05 s, total: 26.6 s\n",
      "Wall time: 3.44 s\n",
      "CPU times: user 20.7 s, sys: 2.78 s, total: 23.5 s\n",
      "Wall time: 3.13 s\n"
     ]
    },
    {
     "data": {
      "text/plain": [
       "VotingClassifier(estimators=[('ada', AdaBoostClassifier()),\n",
       "                             ('bc', BaggingClassifier()),\n",
       "                             ('etc', ExtraTreesClassifier()),\n",
       "                             ('gbc', GradientBoostingClassifier()),\n",
       "                             ('rfc', RandomForestClassifier()),\n",
       "                             ('gpc', GaussianProcessClassifier()),\n",
       "                             ('lr', LogisticRegressionCV()),\n",
       "                             ('bnb', BernoulliNB()), ('gnb', GaussianNB()),\n",
       "                             ('knn', KNeighborsClassifier()),\n",
       "                             ('svc', SVC(probability=T...\n",
       "                                            importance_type=None,\n",
       "                                            interaction_constraints=None,\n",
       "                                            learning_rate=None, max_bin=None,\n",
       "                                            max_cat_to_onehot=None,\n",
       "                                            max_delta_step=None, max_depth=None,\n",
       "                                            max_leaves=None,\n",
       "                                            min_child_weight=None, missing=nan,\n",
       "                                            monotone_constraints=None,\n",
       "                                            n_estimators=100, n_jobs=None,\n",
       "                                            num_parallel_tree=None,\n",
       "                                            predictor=None, random_state=None,\n",
       "                                            reg_alpha=None, reg_lambda=None, ...))],\n",
       "                 voting='soft')"
      ]
     },
     "execution_count": 697,
     "metadata": {},
     "output_type": "execute_result"
    }
   ],
   "source": [
    "vote_est = [\n",
    "    \n",
    "    ('ada', ensemble.AdaBoostClassifier()),\n",
    "    ('bc', ensemble.BaggingClassifier()),\n",
    "    ('etc', ensemble.ExtraTreesClassifier()),\n",
    "    ('gbc', ensemble.GradientBoostingClassifier()),\n",
    "    ('rfc', ensemble.RandomForestClassifier()),\n",
    "    ('gpc', GaussianProcessClassifier()),    \n",
    "    ('lr', linear_model.LogisticRegressionCV()),    \n",
    "    ('bnb', BernoulliNB()),\n",
    "    ('gnb', GaussianNB()),    \n",
    "    ('knn', KNeighborsClassifier()),    \n",
    "    ('svc', SVC(probability=True)),   \n",
    "    ('xgb', XGBClassifier())\n",
    "\n",
    "]\n",
    "\n",
    "\n",
    "#Hard Vote or majority rules\n",
    "hard_voting = ensemble.VotingClassifier(estimators = vote_est , voting = 'hard')\n",
    "hard_cv = model_selection.cross_validate(hard_voting, trainCopy[x_bin], trainCopy[target], cv  = cv_split, return_train_score=True)\n",
    "%time hard_voting.fit(trainCopy[x_bin], trainCopy[target])\n",
    "\n",
    "\n",
    "\n",
    "#Soft Vote or weighted probabilities\n",
    "soft_voting = ensemble.VotingClassifier(estimators = vote_est , voting = 'soft')\n",
    "soft_cv = model_selection.cross_validate(soft_voting, trainCopy[x_bin], trainCopy[target], cv  = cv_split, return_train_score=True)\n",
    "%time soft_voting.fit(trainCopy[x_bin], trainCopy[target])\n"
   ]
  },
  {
   "cell_type": "code",
   "execution_count": 698,
   "id": "b8b51845",
   "metadata": {},
   "outputs": [
    {
     "name": "stdout",
     "output_type": "stream",
     "text": [
      "--------------------Hard Voting--------------------\n",
      "Hard Voting Training w/bin score mean: 87.4719\n",
      "Hard Voting Test w/bin score mean: 81.6760\n",
      "Hard Voting Test w/bin score 3*std: +/- 6.0799\n",
      "--------------------Soft Voting--------------------\n",
      "Soft Voting Training w/bin score mean: 88.2303\n",
      "Soft Voting Test w/bin score mean: 81.7877\n",
      "Soft Voting Test w/bin score 3*std: +/- 7.1185\n"
     ]
    }
   ],
   "source": [
    "print(20*'-' + 'Hard Voting' + 20*'-')\n",
    "print(\"Hard Voting Training w/bin score mean: {:.4f}\". format(hard_cv['train_score'].mean()*100)) \n",
    "print(\"Hard Voting Test w/bin score mean: {:.4f}\". format(hard_cv['test_score'].mean()*100))\n",
    "print(\"Hard Voting Test w/bin score 3*std: +/- {:.4f}\". format(hard_cv['test_score'].std()*100*3))\n",
    "\n",
    "print(20*'-' + 'Soft Voting' + 20*'-')\n",
    "print(\"Soft Voting Training w/bin score mean: {:.4f}\". format(soft_cv['train_score'].mean()*100)) \n",
    "print(\"Soft Voting Test w/bin score mean: {:.4f}\". format(soft_cv['test_score'].mean()*100))\n",
    "print(\"Soft Voting Test w/bin score 3*std: +/- {:.4f}\". format(soft_cv['test_score'].std()*100*3))"
   ]
  },
  {
   "cell_type": "code",
   "execution_count": 692,
   "id": "e3026fcb",
   "metadata": {},
   "outputs": [
    {
     "name": "stdout",
     "output_type": "stream",
     "text": [
      "----------Hard Voting----------\n",
      "Hard Voting Training w/bin score mean: 94.2135\n",
      "Hard Voting Test w/bin score mean: 83.6313\n",
      "Hard Voting Test w/bin score 3*std: +/- 6.3178\n",
      "----------Soft Voting----------\n",
      "Soft Voting Training w/bin score mean: 94.7612\n",
      "Soft Voting Test w/bin score mean: 83.9106\n",
      "Soft Voting Test w/bin score 3*std: +/- 9.0192\n"
     ]
    }
   ],
   "source": [
    "print(10*'-' + 'Hard Voting' + 10*'-')\n",
    "print(\"Hard Voting Training w/bin score mean: {:.4f}\". format(hard_cv['train_score'].mean()*100)) \n",
    "print(\"Hard Voting Test w/bin score mean: {:.4f}\". format(hard_cv['test_score'].mean()*100))\n",
    "print(\"Hard Voting Test w/bin score 3*std: +/- {:.4f}\". format(hard_cv['test_score'].std()*100*3))\n",
    "\n",
    "print(10*'-' + 'Soft Voting' + 10*'-')\n",
    "print(\"Soft Voting Training w/bin score mean: {:.4f}\". format(soft_cv['train_score'].mean()*100)) \n",
    "print(\"Soft Voting Test w/bin score mean: {:.4f}\". format(soft_cv['test_score'].mean()*100))\n",
    "print(\"Soft Voting Test w/bin score 3*std: +/- {:.4f}\". format(soft_cv['test_score'].std()*100*3))"
   ]
  },
  {
   "cell_type": "code",
   "execution_count": 52,
   "id": "5662fcdf",
   "metadata": {},
   "outputs": [
    {
     "data": {
      "image/png": "[encoded data removed]",
      "text/plain": [
       "<Figure size 1008x864 with 2 Axes>"
      ]
     },
     "metadata": {},
     "output_type": "display_data"
    }
   ],
   "source": [
    "my_cmap = sns.diverging_palette(h_neg=240, h_pos=30,s=99,l=60,sep=7,n=20)\n",
    "correlation_heatmap(trainCopy)"
   ]
  },
  {
   "cell_type": "code",
   "execution_count": null,
   "id": "a4b9a99b",
   "metadata": {},
   "outputs": [],
   "source": []
  },
  {
   "cell_type": "code",
   "execution_count": null,
   "id": "8a8da54b",
   "metadata": {},
   "outputs": [],
   "source": [
    "plt.figure(figsize=[16,12])\n",
    "\n",
    "plt.subplot(234)\n",
    "plt.hist(x = [trainCopy[trainCopy['Survived']==1]['Pclass'], trainCopy[trainCopy['Survived']==0]['Pclass']], \n",
    "         stacked=True, color = ['g','r'],label = ['Survived','Dead'])\n",
    "plt.title('Survival by Passenger Class')\n",
    "plt.xlabel('Pclass')\n",
    "plt.ylabel('# of Passengers')\n",
    "plt.legend()\n",
    "\n",
    "plt.subplot(235)\n",
    "plt.hist(x = [trainCopy[trainCopy['Survived']==1]['Age'], trainCopy[trainCopy['Survived']==0]['Age']], \n",
    "         stacked=True, color = ['g','r'],label = ['Survived','Dead'])\n",
    "plt.title('Survival by Age')\n",
    "plt.xlabel('Age (Years)')\n",
    "plt.ylabel('# of Passengers')\n",
    "plt.legend()\n",
    "\n",
    "plt.subplot(236)\n",
    "plt.hist(x = [trainCopy[trainCopy['Survived']==1]['Sex'], trainCopy[trainCopy['Survived']==0]['Sex']], \n",
    "         stacked=True, color = ['g','r'],label = ['Survived','Dead'])\n",
    "plt.title('Survival by Sex')\n",
    "plt.xlabel('Sex (Male or Female)')\n",
    "plt.ylabel('# of Passengers')\n",
    "plt.legend()"
   ]
  }
 ],
 "metadata": {
  "kernelspec": {
   "display_name": "Python 3 (ipykernel)",
   "language": "python",
   "name": "python3"
  },
  "language_info": {
   "codemirror_mode": {
    "name": "ipython",
    "version": 3
   },
   "file_extension": ".py",
   "mimetype": "text/x-python",
   "name": "python",
   "nbconvert_exporter": "python",
   "pygments_lexer": "ipython3",
   "version": "3.10.4"
  }
 },
 "nbformat": 4,
 "nbformat_minor": 5
}
