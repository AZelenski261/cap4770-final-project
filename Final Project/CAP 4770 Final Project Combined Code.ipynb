{
 "cells": [
  {
   "cell_type": "code",
   "execution_count": 29,
   "id": "f56bdb80",
   "metadata": {},
   "outputs": [],
   "source": [
    "import warnings\n",
    "warnings.filterwarnings('ignore')\n",
    "    # Supresses Neural Net Warning \"ConvergenceWarning: Stochastic Optimizer: Maximum iterations (200) reached\n",
    "        # and the optimization hasn't converged yet.\"\n",
    "    # Supresses QDA Warning \"UserWarning: Variables are collinear\""
   ]
  },
  {
   "cell_type": "code",
   "execution_count": 30,
   "id": "ce88566f",
   "metadata": {},
   "outputs": [],
   "source": [
    "# data analysis and wrangling\n",
    "import pandas as pd\n",
    "import numpy as np\n",
    "import random as rnd\n",
    "import datetime\n",
    "\n",
    "# visualization\n",
    "import seaborn as sns\n",
    "import matplotlib.pyplot as plt\n",
    "%matplotlib inline\n",
    "\n",
    "# machine learning\n",
    "from sklearn.neighbors import KNeighborsClassifier\n",
    "from sklearn.svm import SVC, LinearSVC\n",
    "from sklearn.gaussian_process import GaussianProcessClassifier\n",
    "from sklearn.tree import DecisionTreeClassifier\n",
    "from sklearn.ensemble import RandomForestClassifier, AdaBoostClassifier\n",
    "from sklearn.neural_network import MLPClassifier\n",
    "from sklearn.naive_bayes import GaussianNB\n",
    "from sklearn.discriminant_analysis import QuadraticDiscriminantAnalysis\n",
    "from sklearn import preprocessing\n",
    "from sklearn import model_selection\n",
    "from sklearn import feature_selection\n",
    "from sklearn import metrics\n",
    "from sklearn.linear_model import LogisticRegression\n",
    "from sklearn.linear_model import Perceptron\n",
    "from sklearn.linear_model import SGDClassifier"
   ]
  },
  {
   "cell_type": "code",
   "execution_count": 31,
   "id": "5bca5a59",
   "metadata": {},
   "outputs": [],
   "source": [
    "# For Numeric and Ordinal values, NOTHING is done, for Categorical values, they are converted to Ordinal values\n",
    "# https://scikit-learn.org/stable/modules/generated/sklearn.preprocessing.OrdinalEncoder.html\n",
    "def preprocessData(dataFrame: pd.DataFrame, columnsToProcess: list) -> np.array:\n",
    "    tempData = []\n",
    "    enc = preprocessing.OrdinalEncoder()\n",
    "\n",
    "    for col in columnsToProcess:\n",
    "        if (col[1] == 'C'):\n",
    "            tempDataArray = enc.fit_transform(dataFrame[[col[0]]])\n",
    "            for i in range(np.shape(tempDataArray)[1]):\n",
    "                tempData.append(tempDataArray[:, i])\n",
    "        else:\n",
    "            tempData.append(dataFrame[col[0]].values)\n",
    "    \n",
    "    return np.stack(tempData, axis=1)"
   ]
  },
  {
   "cell_type": "code",
   "execution_count": 32,
   "id": "c4be4282",
   "metadata": {},
   "outputs": [],
   "source": [
    "#Will ONLY work if the model has a predict function\n",
    "def getPredictions(model, passengerIDsColumn: pd.Series, dataArrayToPredict: np.array) -> pd.DataFrame:\n",
    "    results = []\n",
    "    for i in range(len(dataArrayToPredict)):\n",
    "        results.append(model.predict([dataArrayToPredict[i,:]])[0])\n",
    "    return pd.concat([passengerIDsColumn, pd.DataFrame({'Survived' : results})], axis=1)"
   ]
  },
  {
   "cell_type": "code",
   "execution_count": 33,
   "id": "5a38ae81",
   "metadata": {},
   "outputs": [],
   "source": [
    "trainData = pd.read_csv('./titanic/train.csv',\n",
    "    usecols=['PassengerId', 'Survived', 'Pclass', 'Name', 'Sex', 'Age', 'SibSp', 'Parch', 'Ticket', 'Fare',\n",
    "             'Cabin', 'Embarked'],\n",
    "    dtype={'PassengerId' : int, 'Survived' : int, 'Pclass' : int, 'Name' : str, 'Sex' : str, 'Age' : float,\n",
    "           'SibSp' : int, 'Parch' : int, 'Ticket' : str, 'Fare' : float, 'Cabin' : str, 'Embarked' : str}\n",
    ")\n",
    "testData = pd.read_csv('./titanic/test.csv',\n",
    "    usecols=['PassengerId', 'Pclass', 'Name', 'Sex', 'Age', 'SibSp', 'Parch', 'Ticket', 'Fare', 'Cabin', 'Embarked'],\n",
    "    dtype={'PassengerId' : int, 'Pclass' : int, 'Name' : str, 'Sex' : str, 'Age' : float, 'SibSp' : int,\n",
    "           'Parch' : int, 'Ticket' : str, 'Fare' : float, 'Cabin' : str, 'Embarked' : str}\n",
    ")"
   ]
  },
  {
   "cell_type": "code",
   "execution_count": 34,
   "id": "2c4efe74",
   "metadata": {},
   "outputs": [],
   "source": [
    "# copy of datasets, originals may be needed for reference\n",
    "trainCopy = trainData.copy(deep = True)\n",
    "testCopy = testData.copy(deep = True)\n",
    "datasets = [trainCopy, testCopy]"
   ]
  },
  {
   "cell_type": "code",
   "execution_count": 35,
   "id": "2faf4dcc",
   "metadata": {},
   "outputs": [
    {
     "name": "stdout",
     "output_type": "stream",
     "text": [
      "Sums of incomplete TRAINING values:\n",
      "PassengerId      0\n",
      "Survived         0\n",
      "Pclass           0\n",
      "Name             0\n",
      "Sex              0\n",
      "Age            177\n",
      "SibSp            0\n",
      "Parch            0\n",
      "Ticket           0\n",
      "Fare             0\n",
      "Cabin          687\n",
      "Embarked         2\n",
      "dtype: int64\n",
      "------------------------------\n",
      "Sums of incomplete TEST values:\n",
      "PassengerId      0\n",
      "Pclass           0\n",
      "Name             0\n",
      "Sex              0\n",
      "Age             86\n",
      "SibSp            0\n",
      "Parch            0\n",
      "Ticket           0\n",
      "Fare             1\n",
      "Cabin          327\n",
      "Embarked         0\n",
      "dtype: int64\n"
     ]
    }
   ],
   "source": [
    "# find incomplete columns\n",
    "print(\"Sums of incomplete TRAINING values:\")\n",
    "print(datasets[0].isnull().sum())\n",
    "print(\"------------------------------\")\n",
    "print(\"Sums of incomplete TEST values:\")\n",
    "print(datasets[1].isnull().sum())"
   ]
  },
  {
   "cell_type": "code",
   "execution_count": 36,
   "id": "8cdafe38",
   "metadata": {},
   "outputs": [],
   "source": [
    "# since Name is a complete feature, we will use it to engineer the \"Title\" feature\n",
    "for dataset in datasets:\n",
    "    dataset['Title'] = dataset['Name'].str.split(\", \", expand=True)[1].str.split(\".\", expand=True)[0]"
   ]
  },
  {
   "cell_type": "code",
   "execution_count": 37,
   "id": "f18c9dd0",
   "metadata": {},
   "outputs": [
    {
     "name": "stdout",
     "output_type": "stream",
     "text": [
      "Titles in TRAIN:\n",
      "Mr              517\n",
      "Miss            182\n",
      "Mrs             125\n",
      "Master           40\n",
      "Dr                7\n",
      "Rev               6\n",
      "Mlle              2\n",
      "Major             2\n",
      "Col               2\n",
      "the Countess      1\n",
      "Capt              1\n",
      "Ms                1\n",
      "Sir               1\n",
      "Lady              1\n",
      "Mme               1\n",
      "Don               1\n",
      "Jonkheer          1\n",
      "Name: Title, dtype: int64\n",
      "-------------------\n",
      "Titles in TEST:\n",
      "Mr        240\n",
      "Miss       78\n",
      "Mrs        72\n",
      "Master     21\n",
      "Col         2\n",
      "Rev         2\n",
      "Ms          1\n",
      "Dr          1\n",
      "Dona        1\n",
      "Name: Title, dtype: int64\n"
     ]
    }
   ],
   "source": [
    "print(\"Titles in TRAIN:\")\n",
    "print(datasets[0]['Title'].value_counts())\n",
    "print(\"-------------------\")\n",
    "print(\"Titles in TEST:\")\n",
    "print(datasets[1]['Title'].value_counts())"
   ]
  },
  {
   "cell_type": "code",
   "execution_count": 38,
   "id": "f7c34f75",
   "metadata": {},
   "outputs": [],
   "source": [
    "# replace \"rare\" (fewer than 10 instances) and foreign titles with english equivalent\n",
    "for dataset in datasets:\n",
    "    dataset['Title'] = dataset['Name'].str.split(\", \", expand=True)[1].str.split(\".\", expand=True)[0]\n",
    "    dataset['Title'] = dataset['Title'].replace(['Lady', 'the Countess','Capt', 'Col', 'Don', 'Dr', 'Major', 'Rev', \n",
    "                                                'Sir', 'Jonkheer', 'Dona'], \n",
    "                                                'Rare')\n",
    "\n",
    "    dataset['Title'] = dataset['Title'].replace('Mlle', 'Miss')\n",
    "    dataset['Title'] = dataset['Title'].replace('Ms', 'Miss')\n",
    "    dataset['Title'] = dataset['Title'].replace('Mme', 'Mrs')"
   ]
  },
  {
   "cell_type": "code",
   "execution_count": 39,
   "id": "b401be18",
   "metadata": {},
   "outputs": [
    {
     "name": "stdout",
     "output_type": "stream",
     "text": [
      "Titles in TRAIN:\n",
      "Mr        517\n",
      "Miss      185\n",
      "Mrs       126\n",
      "Master     40\n",
      "Rare       23\n",
      "Name: Title, dtype: int64\n",
      "-------------------\n",
      "Titles in TEST:\n",
      "Mr        240\n",
      "Miss       79\n",
      "Mrs        72\n",
      "Master     21\n",
      "Rare        6\n",
      "Name: Title, dtype: int64\n"
     ]
    }
   ],
   "source": [
    "print(\"Titles in TRAIN:\")\n",
    "print(datasets[0]['Title'].value_counts())\n",
    "print(\"-------------------\")\n",
    "print(\"Titles in TEST:\")\n",
    "print(datasets[1]['Title'].value_counts())"
   ]
  },
  {
   "cell_type": "code",
   "execution_count": 40,
   "id": "51f42c01",
   "metadata": {},
   "outputs": [],
   "source": [
    "# now that we have the Title attribute, we will complete the Age feature using the\n",
    "# median age associated with each title, and complete the rest of the features\n",
    "for dataset in datasets:\n",
    "    dataset['Age'] = dataset.groupby('Title', as_index = True)['Age'].apply(lambda age: age.fillna(age.median()))\n",
    "    dataset['Embarked'].fillna(dataset['Embarked'].mode()[0], inplace = True)\n",
    "    dataset['Fare'].fillna(dataset['Fare'].median(), inplace = True)"
   ]
  },
  {
   "cell_type": "code",
   "execution_count": 41,
   "id": "2e966fe8",
   "metadata": {},
   "outputs": [],
   "source": [
    "# Feature Engineering\n",
    "    # FamilySize = siblings + spouse + parents + children\n",
    "    # AgeClassInteraction = product of age and passenger class\n",
    "for dataset in datasets:\n",
    "    dataset['FamilySize'] = dataset['SibSp'] + dataset['Parch'] + 1\n",
    "    dataset['AgeClassInteraction'] = dataset['Age'] * dataset['Pclass']"
   ]
  },
  {
   "cell_type": "code",
   "execution_count": 42,
   "id": "b7a04f01",
   "metadata": {},
   "outputs": [],
   "source": [
    "# Determine Columns to Use\n",
    "    # List of columns to use in creating the model and the data type\n",
    "    #   'C' - Categorical\n",
    "    #   'N' - Numeric\n",
    "    #   'O' - Ordinal\n",
    "colList = [('Pclass', 'O'), ('Sex', 'C'), ('Age', 'N'), ('SibSp', 'N'), ('Parch', 'N'), ('Fare', 'N'),\n",
    "           ('Embarked', 'C'), ('Title', 'C'), ('FamilySize', 'N'), ('AgeClassInteraction', 'N')]\n"
   ]
  },
  {
   "cell_type": "code",
   "execution_count": 43,
   "id": "18772eb6",
   "metadata": {},
   "outputs": [],
   "source": [
    "# Preprocess Data\n",
    "preprocessedDatasets = [preprocessData(dataset, colList) for dataset in datasets]"
   ]
  },
  {
   "cell_type": "code",
   "execution_count": 44,
   "id": "484034bb",
   "metadata": {},
   "outputs": [],
   "source": [
    "# Create Model(s) #########################################\n",
    "    # Inspiration for Classifier Models was taken from the following page\n",
    "    # https://scikit-learn.org/stable/auto_examples/classification/plot_classifier_comparison.html\n",
    "classifiers = [\n",
    "    (\"Default Nearest Neighbors\", KNeighborsClassifier()),\n",
    "    (\"10 Nearest Neighbors (Brute)\", KNeighborsClassifier(n_neighbors=10, algorithm='brute')),\n",
    "    (\"SVM\", SVC()),\n",
    "    (\"Gaussian Process\", GaussianProcessClassifier()),\n",
    "    (\"Decision Tree\", DecisionTreeClassifier()),\n",
    "    (\"Random Forest\", RandomForestClassifier()),\n",
    "    (\"Neural Net\", MLPClassifier()),\n",
    "    (\"AdaBoost\", AdaBoostClassifier()),\n",
    "    (\"Naive Bayes\", GaussianNB()),\n",
    "    (\"QDA\", QuadraticDiscriminantAnalysis()),\n",
    "]\n",
    "\n",
    "models = []\n",
    "for i in range(len(classifiers)):\n",
    "    models.append((classifiers[i][0], classifiers[i][1].fit(preprocessedDatasets[0], datasets[0]['Survived'])))"
   ]
  },
  {
   "cell_type": "code",
   "execution_count": 45,
   "id": "4b22453d",
   "metadata": {},
   "outputs": [],
   "source": [
    "# Get Predictions\n",
    "summaryDF = testData[['PassengerId']].copy(deep=True)\n",
    "resultDFs = [] # List of tuples of Model name, [0], and resulting dataframe (columns PassengerId and Survived), [1]\n",
    "\n",
    "for model in models:\n",
    "    resultDFs.append((model[0], getPredictions(model[1], testData['PassengerId'], preprocessedDatasets[1])))\n",
    "    summaryDF[model[0]] = resultDFs[-1][1]['Survived']"
   ]
  },
  {
   "cell_type": "code",
   "execution_count": 46,
   "id": "35e01e35",
   "metadata": {},
   "outputs": [
    {
     "name": "stdout",
     "output_type": "stream",
     "text": [
      "   PassengerId  Default Nearest Neighbors  10 Nearest Neighbors (Brute)  SVM  \\\n",
      "0          892                          0                             0    0   \n",
      "1          893                          0                             0    0   \n",
      "2          894                          0                             0    0   \n",
      "3          895                          1                             0    0   \n",
      "4          896                          0                             0    0   \n",
      "5          897                          1                             0    0   \n",
      "6          898                          0                             0    0   \n",
      "7          899                          0                             0    0   \n",
      "8          900                          0                             0    0   \n",
      "9          901                          0                             0    0   \n",
      "\n",
      "   Gaussian Process  Decision Tree  Random Forest  Neural Net  AdaBoost  \\\n",
      "0                 0              0              0           0         0   \n",
      "1                 0              0              0           0         0   \n",
      "2                 1              1              0           0         0   \n",
      "3                 1              1              1           0         0   \n",
      "4                 0              1              1           1         1   \n",
      "5                 0              0              0           0         0   \n",
      "6                 0              0              0           1         1   \n",
      "7                 1              0              0           0         0   \n",
      "8                 0              1              1           1         1   \n",
      "9                 1              0              0           0         0   \n",
      "\n",
      "   Naive Bayes  QDA  \n",
      "0            0    1  \n",
      "1            0    1  \n",
      "2            0    1  \n",
      "3            0    0  \n",
      "4            1    1  \n",
      "5            0    1  \n",
      "6            1    1  \n",
      "7            0    1  \n",
      "8            1    1  \n",
      "9            0    1  \n"
     ]
    }
   ],
   "source": [
    "print(summaryDF.head(10))"
   ]
  },
  {
   "cell_type": "code",
   "execution_count": 47,
   "id": "cfaa104e",
   "metadata": {},
   "outputs": [
    {
     "name": "stdout",
     "output_type": "stream",
     "text": [
      "Scoring Models:\n",
      "    Default Nearest Neighbors: 0.75\n",
      "    10 Nearest Neighbors (Brute): 0.7425373134328358\n",
      "    SVM: 0.75\n",
      "    Gaussian Process: 0.7350746268656716\n",
      "    Decision Tree: 0.8246268656716418\n",
      "    Random Forest: 0.8544776119402985\n",
      "    Neural Net: 0.832089552238806\n",
      "    AdaBoost: 0.8544776119402985\n",
      "    Naive Bayes: 0.8246268656716418\n",
      "    QDA: 0.7126865671641791\n"
     ]
    }
   ],
   "source": [
    "print('Scoring Models:')\n",
    "for classifier in classifiers:\n",
    "    cv_split = model_selection.ShuffleSplit(n_splits = 10, test_size = .3, train_size = .6, random_state = 0)\n",
    "    cv_results = model_selection.cross_validate(classifier[1], preprocessedDatasets[0], trainCopy['Survived'],\n",
    "                    cv  = cv_split)\n",
    "    score = cv_results['test_score'].max()\n",
    "    print('    ' + classifier[0] + ': ' + str(score))"
   ]
  },
  {
   "cell_type": "code",
   "execution_count": 48,
   "id": "33ae7e2e",
   "metadata": {},
   "outputs": [],
   "source": [
    "# Uncomment to save .csv of all results\n",
    "#summaryDF.to_csv(path_or_buf='modelSummary ' + datetime.datetime.now().strftime(\"%Y-%m-%d at %H.%M.%S\") + '.csv', header=True, index=False, mode='w')"
   ]
  },
  {
   "cell_type": "code",
   "execution_count": 49,
   "id": "e6c29656",
   "metadata": {},
   "outputs": [],
   "source": [
    "# Result DataFrame to .csv for Kaggle Submission\n",
    "# Uncomment and specify classifier number to use to save to .csv\n",
    "#resultDFs['Insert Classifier Number'][1].to_csv(path_or_buf='kaggle_submission ' + datetime.datetime.now().strftime(\"%Y-%m-%d at %H.%M.%S\") + '.csv', header=True, index=False, mode='w')"
   ]
  },
  {
   "cell_type": "code",
   "execution_count": 50,
   "id": "8a8da54b",
   "metadata": {},
   "outputs": [
    {
     "data": {
      "text/plain": [
       "<matplotlib.legend.Legend at 0x7fb18cc51d90>"
      ]
     },
     "execution_count": 50,
     "metadata": {},
     "output_type": "execute_result"
    },
    {
     "data": {
      "image/png": "[encoded data removed]",
      "text/plain": [
       "<Figure size 1152x864 with 3 Axes>"
      ]
     },
     "metadata": {
      "needs_background": "light"
     },
     "output_type": "display_data"
    }
   ],
   "source": [
    "plt.figure(figsize=[16,12])\n",
    "\n",
    "plt.subplot(234)\n",
    "plt.hist(x = [trainCopy[trainCopy['Survived']==1]['Pclass'], trainCopy[trainCopy['Survived']==0]['Pclass']], \n",
    "         stacked=True, color = ['g','r'],label = ['Survived','Dead'])\n",
    "plt.title('Survival by Passenger Class')\n",
    "plt.xlabel('Pclass')\n",
    "plt.ylabel('# of Passengers')\n",
    "plt.legend()\n",
    "\n",
    "plt.subplot(235)\n",
    "plt.hist(x = [trainCopy[trainCopy['Survived']==1]['Age'], trainCopy[trainCopy['Survived']==0]['Age']], \n",
    "         stacked=True, color = ['g','r'],label = ['Survived','Dead'])\n",
    "plt.title('Survival by Age')\n",
    "plt.xlabel('Age (Years)')\n",
    "plt.ylabel('# of Passengers')\n",
    "plt.legend()\n",
    "\n",
    "plt.subplot(236)\n",
    "plt.hist(x = [trainCopy[trainCopy['Survived']==1]['Sex'], trainCopy[trainCopy['Survived']==0]['Sex']], \n",
    "         stacked=True, color = ['g','r'],label = ['Survived','Dead'])\n",
    "plt.title('Sex Survival')\n",
    "plt.xlabel('Sex (Male or Female)')\n",
    "plt.ylabel('# of Passengers')\n",
    "plt.legend()"
   ]
  },
  {
   "cell_type": "code",
   "execution_count": null,
   "id": "749458e9",
   "metadata": {},
   "outputs": [],
   "source": []
  }
 ],
 "metadata": {
  "kernelspec": {
   "display_name": "Python 3 (ipykernel)",
   "language": "python",
   "name": "python3"
  },
  "language_info": {
   "codemirror_mode": {
    "name": "ipython",
    "version": 3
   },
   "file_extension": ".py",
   "mimetype": "text/x-python",
   "name": "python",
   "nbconvert_exporter": "python",
   "pygments_lexer": "ipython3",
   "version": "3.9.7"
  }
 },
 "nbformat": 4,
 "nbformat_minor": 5
}
