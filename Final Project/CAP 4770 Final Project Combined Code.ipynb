{
 "cells": [
  {
   "cell_type": "code",
   "execution_count": 1,
   "id": "f56bdb80",
   "metadata": {},
   "outputs": [],
   "source": [
    "import warnings\n",
    "warnings.filterwarnings('ignore')\n",
    "    # Supresses Neural Net Warning \"ConvergenceWarning: Stochastic Optimizer: Maximum iterations (200) reached\n",
    "        # and the optimization hasn't converged yet.\"\n",
    "    # Supresses QDA Warning \"UserWarning: Variables are collinear\""
   ]
  },
  {
   "cell_type": "code",
   "execution_count": 2,
   "id": "ce88566f",
   "metadata": {},
   "outputs": [],
   "source": [
    "# data analysis and wrangling\n",
    "import pandas as pd\n",
    "import numpy as np\n",
    "import random as rnd\n",
    "import datetime\n",
    "\n",
    "# visualization\n",
    "import seaborn as sns\n",
    "import matplotlib.pyplot as plt\n",
    "%matplotlib inline\n",
    "\n",
    "# machine learning\n",
    "from sklearn.neighbors import KNeighborsClassifier\n",
    "from sklearn.svm import SVC, LinearSVC\n",
    "from sklearn.gaussian_process import GaussianProcessClassifier\n",
    "from sklearn.tree import DecisionTreeClassifier\n",
    "from sklearn.ensemble import RandomForestClassifier, AdaBoostClassifier, VotingClassifier\n",
    "from sklearn.neural_network import MLPClassifier\n",
    "from sklearn.naive_bayes import GaussianNB\n",
    "from sklearn.discriminant_analysis import QuadraticDiscriminantAnalysis\n",
    "from sklearn import preprocessing\n",
    "from sklearn import model_selection\n",
    "from sklearn import feature_selection\n",
    "from sklearn import metrics\n",
    "from sklearn.linear_model import LogisticRegression\n",
    "from sklearn.linear_model import Perceptron\n",
    "from sklearn.linear_model import SGDClassifier"
   ]
  },
  {
   "cell_type": "code",
   "execution_count": 3,
   "id": "c4be4282",
   "metadata": {},
   "outputs": [],
   "source": [
    "#Will ONLY work if the model has a predict function\n",
    "def getPredictions(model, passengerIDsColumn: pd.Series, dataArrayToPredict: np.array) -> pd.DataFrame:\n",
    "    results = model.predict(dataArrayToPredict)\n",
    "    return pd.concat([passengerIDsColumn, pd.DataFrame({'Survived' : results})], axis=1)"
   ]
  },
  {
   "cell_type": "code",
   "execution_count": 4,
   "id": "08ba6715",
   "metadata": {},
   "outputs": [],
   "source": [
    "# For Numeric and Ordinal values, NOTHING is done, for Categorical values, they are converted to Ordinal values\n",
    "# https://scikit-learn.org/stable/modules/generated/sklearn.preprocessing.OrdinalEncoder.html\n",
    "def preprocessData(dataToEncode: pd.DataFrame, remainingData: pd.DataFrame, columnsToProcess: list) -> np.array:\n",
    "    colsToEncode = []\n",
    "    remainingCols = []\n",
    "        \n",
    "    for col in columnsToProcess:\n",
    "        if col[1] == 'C':\n",
    "            colsToEncode.append(col[0])\n",
    "        else:\n",
    "            remainingCols.append(col[0])\n",
    "    \n",
    "    resultArr = dataToEncode[remainingCols].values\n",
    "    \n",
    "    combinedData = dataToEncode[colsToEncode].append(remainingData[colsToEncode], ignore_index=True)\n",
    "    \n",
    "    for column in colsToEncode:\n",
    "        uniqueCategories = combinedData[column].unique().tolist()\n",
    "        uniqueCategories.sort()\n",
    "        enc = preprocessing.OneHotEncoder(categories=[uniqueCategories])\n",
    "        tempDataArray = enc.fit_transform(dataToEncode[[column]].values).toarray()\n",
    "        resultArr = np.append(resultArr, tempDataArray, axis=1)\n",
    "    \n",
    "    return resultArr"
   ]
  },
  {
   "cell_type": "code",
   "execution_count": 5,
   "id": "2af5c156",
   "metadata": {},
   "outputs": [],
   "source": [
    "class EnsembleEstimator:\n",
    "    def __init__(self):\n",
    "        self.classifiers = [\n",
    "            (\"10 Nearest Neighbors (Brute)\", KNeighborsClassifier(n_neighbors=10, algorithm='brute', n_jobs=-1)),\n",
    "            (\"Default Nearest Neighbors\", KNeighborsClassifier(n_jobs=-1)),\n",
    "            (\"SVM\", SVC()),\n",
    "            (\"Gaussian Process\", GaussianProcessClassifier(n_jobs=-1)),\n",
    "            (\"Decision Tree\", DecisionTreeClassifier()),\n",
    "            (\"Random Forest\", RandomForestClassifier(n_jobs=-1)),\n",
    "            (\"Neural Net\", MLPClassifier()),\n",
    "            (\"AdaBoost\", AdaBoostClassifier()),\n",
    "            (\"Naive Bayes\", GaussianNB()),\n",
    "            (\"QDA\", QuadraticDiscriminantAnalysis()),\n",
    "        ]\n",
    "    \n",
    "    def fit(self, X, y):\n",
    "        self.X = X\n",
    "        self.y = y\n",
    "        self.models = []\n",
    "        for classifier in self.classifiers:\n",
    "            self.models.append((classifier[0], classifier[1].fit(X, y)))\n",
    "        \n",
    "        self.n_features_in_ = self.models[0][1].n_features_in_\n",
    "        return self\n",
    "\n",
    "    def predict(self, X):\n",
    "        predictionsDict = {}\n",
    "        \n",
    "        # Get individual model predictions\n",
    "        for model in self.models:\n",
    "            predictionsDict[model[0]] = model[1].predict(X)\n",
    "        \n",
    "        # Get model scores\n",
    "        scoresDict = {}\n",
    "        for classifier in self.classifiers:\n",
    "            cv_split = model_selection.ShuffleSplit(n_splits = 10, test_size = .3, train_size = .6, random_state = 0)\n",
    "            cv_results = model_selection.cross_validate(classifier[1], self.X, self.y,\n",
    "                            cv  = cv_split, scoring = 'accuracy')\n",
    "            score = cv_results['test_score'].mean()\n",
    "            scoresDict[classifier[0]] = score\n",
    "            \n",
    "        # Calculate ensemble score - ranges from -1 (Strong evidence for 0 [Did not survive]) to\n",
    "        # 1 (Strong evidence for 1 [Survived])\n",
    "        # Individual Predictions are weighted according to the classifier accuracy\n",
    "        predictionsDF = pd.DataFrame(predictionsDict)\n",
    "        predictionsDF.mask(predictionsDF == 0, -1, inplace=True)\n",
    "        predictionsDF = predictionsDF * pd.Series(scoresDict)\n",
    "        predictionsDF['Sum'] = predictionsDF.sum(axis=1)\n",
    "        predictionsDF['Divided'] = predictionsDF['Sum'] / len(self.classifiers)\n",
    "        predictionsDF['Ensemble'] = 0\n",
    "        predictionsDF['Ensemble'].mask(predictionsDF['Divided'] > 0, 1, inplace=True)\n",
    "        \n",
    "        return predictionsDF['Ensemble'].to_numpy()\n",
    "    \n",
    "    # Requred Method: does nothing as no parameters are passed to the constructor\n",
    "    def get_params(self, deep=True):\n",
    "        return {}\n",
    "    \n",
    "    # Requred Method: does nothing as no parameters are passed to the constructor\n",
    "    def set_params(self, **parameters):\n",
    "        return self"
   ]
  },
  {
   "cell_type": "code",
   "execution_count": 6,
   "id": "5a38ae81",
   "metadata": {},
   "outputs": [],
   "source": [
    "trainData = pd.read_csv('./titanic/train.csv',\n",
    "    usecols=['PassengerId', 'Survived', 'Pclass', 'Name', 'Sex', 'Age', 'SibSp', 'Parch', 'Ticket', 'Fare',\n",
    "             'Cabin', 'Embarked'],\n",
    "    dtype={'PassengerId' : int, 'Survived' : int, 'Pclass' : int, 'Name' : str, 'Sex' : str, 'Age' : float,\n",
    "           'SibSp' : int, 'Parch' : int, 'Ticket' : str, 'Fare' : float, 'Cabin' : str, 'Embarked' : str}\n",
    ")\n",
    "testData = pd.read_csv('./titanic/test.csv',\n",
    "    usecols=['PassengerId', 'Pclass', 'Name', 'Sex', 'Age', 'SibSp', 'Parch', 'Ticket', 'Fare', 'Cabin', 'Embarked'],\n",
    "    dtype={'PassengerId' : int, 'Pclass' : int, 'Name' : str, 'Sex' : str, 'Age' : float, 'SibSp' : int,\n",
    "           'Parch' : int, 'Ticket' : str, 'Fare' : float, 'Cabin' : str, 'Embarked' : str}\n",
    ")"
   ]
  },
  {
   "cell_type": "code",
   "execution_count": 7,
   "id": "2c4efe74",
   "metadata": {},
   "outputs": [],
   "source": [
    "# copy of datasets, originals may be needed for reference\n",
    "trainCopy = trainData.copy(deep = True)\n",
    "testCopy = testData.copy(deep = True)\n",
    "datasets = [trainCopy, testCopy]"
   ]
  },
  {
   "cell_type": "code",
   "execution_count": 8,
   "id": "2faf4dcc",
   "metadata": {},
   "outputs": [
    {
     "name": "stdout",
     "output_type": "stream",
     "text": [
      "Sums of incomplete TRAINING values:\n",
      "PassengerId      0\n",
      "Survived         0\n",
      "Pclass           0\n",
      "Name             0\n",
      "Sex              0\n",
      "Age            177\n",
      "SibSp            0\n",
      "Parch            0\n",
      "Ticket           0\n",
      "Fare             0\n",
      "Cabin          687\n",
      "Embarked         2\n",
      "dtype: int64\n",
      "------------------------------\n",
      "Sums of incomplete TEST values:\n",
      "PassengerId      0\n",
      "Pclass           0\n",
      "Name             0\n",
      "Sex              0\n",
      "Age             86\n",
      "SibSp            0\n",
      "Parch            0\n",
      "Ticket           0\n",
      "Fare             1\n",
      "Cabin          327\n",
      "Embarked         0\n",
      "dtype: int64\n"
     ]
    }
   ],
   "source": [
    "# find incomplete columns\n",
    "print(\"Sums of incomplete TRAINING values:\")\n",
    "print(datasets[0].isnull().sum())\n",
    "print(\"------------------------------\")\n",
    "print(\"Sums of incomplete TEST values:\")\n",
    "print(datasets[1].isnull().sum())"
   ]
  },
  {
   "cell_type": "code",
   "execution_count": 9,
   "id": "8cdafe38",
   "metadata": {},
   "outputs": [],
   "source": [
    "# since Name is a complete feature, we will use it to engineer the \"Title\" feature\n",
    "for dataset in datasets:\n",
    "    dataset['Title'] = dataset['Name'].str.split(\", \", expand=True)[1].str.split(\".\", expand=True)[0]"
   ]
  },
  {
   "cell_type": "code",
   "execution_count": 10,
   "id": "f18c9dd0",
   "metadata": {},
   "outputs": [
    {
     "name": "stdout",
     "output_type": "stream",
     "text": [
      "Titles in TRAIN:\n",
      "Mr              517\n",
      "Miss            182\n",
      "Mrs             125\n",
      "Master           40\n",
      "Dr                7\n",
      "Rev               6\n",
      "Mlle              2\n",
      "Major             2\n",
      "Col               2\n",
      "the Countess      1\n",
      "Capt              1\n",
      "Ms                1\n",
      "Sir               1\n",
      "Lady              1\n",
      "Mme               1\n",
      "Don               1\n",
      "Jonkheer          1\n",
      "Name: Title, dtype: int64\n",
      "-------------------\n",
      "Titles in TEST:\n",
      "Mr        240\n",
      "Miss       78\n",
      "Mrs        72\n",
      "Master     21\n",
      "Col         2\n",
      "Rev         2\n",
      "Ms          1\n",
      "Dr          1\n",
      "Dona        1\n",
      "Name: Title, dtype: int64\n"
     ]
    }
   ],
   "source": [
    "print(\"Titles in TRAIN:\")\n",
    "print(datasets[0]['Title'].value_counts())\n",
    "print(\"-------------------\")\n",
    "print(\"Titles in TEST:\")\n",
    "print(datasets[1]['Title'].value_counts())"
   ]
  },
  {
   "cell_type": "code",
   "execution_count": 11,
   "id": "f7c34f75",
   "metadata": {},
   "outputs": [],
   "source": [
    "# replace \"rare\" (fewer than 10 instances) and foreign titles with english equivalent\n",
    "for dataset in datasets:\n",
    "    dataset['Title'] = dataset['Name'].str.split(\", \", expand=True)[1].str.split(\".\", expand=True)[0]\n",
    "    dataset['Title'] = dataset['Title'].replace(['Lady', 'the Countess','Capt', 'Col', 'Don', 'Dr', 'Major', 'Rev', \n",
    "                                                'Sir', 'Jonkheer', 'Dona'], \n",
    "                                                'Rare')\n",
    "\n",
    "    dataset['Title'] = dataset['Title'].replace('Mlle', 'Miss')\n",
    "    dataset['Title'] = dataset['Title'].replace('Ms', 'Miss')\n",
    "    dataset['Title'] = dataset['Title'].replace('Mme', 'Mrs')"
   ]
  },
  {
   "cell_type": "code",
   "execution_count": 12,
   "id": "b401be18",
   "metadata": {},
   "outputs": [
    {
     "name": "stdout",
     "output_type": "stream",
     "text": [
      "Titles in TRAIN:\n",
      "Mr        517\n",
      "Miss      185\n",
      "Mrs       126\n",
      "Master     40\n",
      "Rare       23\n",
      "Name: Title, dtype: int64\n",
      "-------------------\n",
      "Titles in TEST:\n",
      "Mr        240\n",
      "Miss       79\n",
      "Mrs        72\n",
      "Master     21\n",
      "Rare        6\n",
      "Name: Title, dtype: int64\n"
     ]
    }
   ],
   "source": [
    "print(\"Titles in TRAIN:\")\n",
    "print(datasets[0]['Title'].value_counts())\n",
    "print(\"-------------------\")\n",
    "print(\"Titles in TEST:\")\n",
    "print(datasets[1]['Title'].value_counts())"
   ]
  },
  {
   "cell_type": "code",
   "execution_count": 13,
   "id": "51f42c01",
   "metadata": {},
   "outputs": [],
   "source": [
    "# now that we have the Title attribute, we will complete the Age feature using the\n",
    "# median age associated with each title, and complete the rest of the features\n",
    "for dataset in datasets:\n",
    "    dataset['Age'] = dataset.groupby('Title', as_index = True)['Age'].apply(lambda age: age.fillna(age.median()))\n",
    "    dataset['Embarked'].fillna(dataset['Embarked'].mode()[0], inplace = True)\n",
    "    dataset['Fare'].fillna(dataset['Fare'].median(), inplace = True)"
   ]
  },
  {
   "cell_type": "code",
   "execution_count": 14,
   "id": "2e966fe8",
   "metadata": {},
   "outputs": [],
   "source": [
    "# Feature Engineering\n",
    "    # FamilySize = siblings + spouse + parents + children\n",
    "    # AgeClassInteraction = product of age and passenger class\n",
    "for dataset in datasets:\n",
    "    dataset['FamilySize'] = dataset['SibSp'] + dataset['Parch'] + 1\n",
    "    dataset['AgeClassInteraction'] = dataset['Age'] * dataset['Pclass']"
   ]
  },
  {
   "cell_type": "code",
   "execution_count": 15,
   "id": "b7a04f01",
   "metadata": {},
   "outputs": [],
   "source": [
    "# Determine Columns to Use\n",
    "    # List of columns to use in creating the model and the data type\n",
    "    #   'C' - Categorical\n",
    "    #   'N' - Numeric\n",
    "    #   'O' - Ordinal\n",
    "colList = [('Pclass', 'C'), ('Sex', 'C'), ('Age', 'N'), ('SibSp', 'N'), ('Parch', 'N'), ('Fare', 'N'),\n",
    "           ('Embarked', 'C'), ('Title', 'C'), ('FamilySize', 'N'), ('AgeClassInteraction', 'N')]"
   ]
  },
  {
   "cell_type": "code",
   "execution_count": 16,
   "id": "18772eb6",
   "metadata": {},
   "outputs": [],
   "source": [
    "# Preprocess Data\n",
    "preprocessedDatasets = [preprocessData(datasets[0], datasets[1], colList), \n",
    "                        preprocessData(datasets[1], datasets[0], colList)]"
   ]
  },
  {
   "cell_type": "code",
   "execution_count": 17,
   "id": "484034bb",
   "metadata": {},
   "outputs": [],
   "source": [
    "# Create Model(s) #########################################\n",
    "    # Inspiration for Classifier Models was taken from the following page\n",
    "    # https://scikit-learn.org/stable/auto_examples/classification/plot_classifier_comparison.html\n",
    "classifiers = [\n",
    "    (\"10 Nearest Neighbors (Brute)\", KNeighborsClassifier(n_neighbors=10, algorithm='brute')),\n",
    "    (\"Default Nearest Neighbors\", KNeighborsClassifier()),\n",
    "    (\"SVM\", SVC()),\n",
    "    (\"Gaussian Process\", GaussianProcessClassifier()),\n",
    "    (\"Decision Tree\", DecisionTreeClassifier()),\n",
    "    (\"Random Forest\", RandomForestClassifier()),\n",
    "    (\"Neural Net\", MLPClassifier()),\n",
    "    (\"AdaBoost\", AdaBoostClassifier()),\n",
    "    (\"Naive Bayes\", GaussianNB()),\n",
    "    (\"QDA\", QuadraticDiscriminantAnalysis()),\n",
    "    (\"Custom Ensemble\", EnsembleEstimator()),\n",
    "]\n",
    "classifiers.append(('VotingClassifier', VotingClassifier(estimators=classifiers[:-1])))\n",
    "\n",
    "models = []\n",
    "for i in range(len(classifiers)):\n",
    "    models.append((classifiers[i][0], classifiers[i][1].fit(preprocessedDatasets[0], datasets[0]['Survived'])))"
   ]
  },
  {
   "cell_type": "code",
   "execution_count": 18,
   "id": "4b22453d",
   "metadata": {},
   "outputs": [],
   "source": [
    "# Get Predictions\n",
    "summaryDF = testData[['PassengerId']].copy(deep=True)\n",
    "resultDFs = [] # List of tuples of Model name, [0], and resulting dataframe (columns PassengerId and Survived), [1]\n",
    "\n",
    "for model in models:\n",
    "    resultDFs.append((model[0], getPredictions(model[1], testData['PassengerId'], preprocessedDatasets[1])))\n",
    "    summaryDF[model[0]] = resultDFs[-1][1]['Survived']"
   ]
  },
  {
   "cell_type": "code",
   "execution_count": 19,
   "id": "35e01e35",
   "metadata": {
    "scrolled": false
   },
   "outputs": [
    {
     "name": "stdout",
     "output_type": "stream",
     "text": [
      "   PassengerId  10 Nearest Neighbors (Brute)  Default Nearest Neighbors  SVM  \\\n",
      "0          892                             0                          0    0   \n",
      "1          893                             0                          0    0   \n",
      "2          894                             0                          0    0   \n",
      "3          895                             0                          1    0   \n",
      "4          896                             0                          0    0   \n",
      "5          897                             0                          1    0   \n",
      "6          898                             0                          0    0   \n",
      "7          899                             0                          0    0   \n",
      "8          900                             0                          0    0   \n",
      "9          901                             0                          1    0   \n",
      "\n",
      "   Gaussian Process  Decision Tree  Random Forest  Neural Net  AdaBoost  \\\n",
      "0                 0              0              0           0         0   \n",
      "1                 0              1              0           1         0   \n",
      "2                 1              1              0           0         0   \n",
      "3                 1              1              1           0         0   \n",
      "4                 0              0              1           1         1   \n",
      "5                 0              0              0           0         0   \n",
      "6                 0              0              0           1         1   \n",
      "7                 1              0              0           0         0   \n",
      "8                 0              1              1           1         1   \n",
      "9                 1              0              0           0         0   \n",
      "\n",
      "   Naive Bayes  QDA  Custom Ensemble  VotingClassifier  \n",
      "0            0    0                0                 0  \n",
      "1            1    0                0                 0  \n",
      "2            0    0                0                 0  \n",
      "3            0    0                0                 0  \n",
      "4            1    0                0                 0  \n",
      "5            0    0                0                 0  \n",
      "6            1    0                0                 0  \n",
      "7            0    0                0                 0  \n",
      "8            1    0                1                 0  \n",
      "9            0    0                0                 0  \n"
     ]
    }
   ],
   "source": [
    "print(summaryDF.head(10))"
   ]
  },
  {
   "cell_type": "code",
   "execution_count": 20,
   "id": "cfaa104e",
   "metadata": {},
   "outputs": [
    {
     "name": "stdout",
     "output_type": "stream",
     "text": [
      "Scoring Models:\n",
      "    10 Nearest Neighbors (Brute): 0.7350746268656716, Mean: 0.6940298507462687, Min: 0.6529850746268657\n",
      "    Default Nearest Neighbors: 0.75, Mean: 0.6985074626865672, Min: 0.667910447761194\n",
      "    SVM: 0.753731343283582, Mean: 0.7022388059701491, Min: 0.6455223880597015\n",
      "    Gaussian Process: 0.75, Mean: 0.7119402985074627, Min: 0.664179104477612\n",
      "    Decision Tree: 0.8134328358208955, Mean: 0.7738805970149253, Min: 0.7201492537313433\n",
      "    Random Forest: 0.8544776119402985, Mean: 0.8164179104477611, Min: 0.7985074626865671\n",
      "    Neural Net: 0.8619402985074627, Mean: 0.8186567164179103, Min: 0.7910447761194029\n",
      "    AdaBoost: 0.8470149253731343, Mean: 0.8126865671641792, Min: 0.7873134328358209\n",
      "    Naive Bayes: 0.8470149253731343, Mean: 0.8007462686567164, Min: 0.753731343283582\n",
      "    QDA: 0.6791044776119403, Mean: 0.5794776119402985, Min: 0.417910447761194\n",
      "    Custom Ensemble: 0.8619402985074627, Mean: 0.8164179104477611, Min: 0.7686567164179104\n",
      "    VotingClassifier: 0.8395522388059702, Mean: 0.7951492537313432, Min: 0.7313432835820896\n"
     ]
    }
   ],
   "source": [
    "print('Scoring Models:')\n",
    "scoresDict = {}\n",
    "results = []\n",
    "for classifier in classifiers:\n",
    "    cv_split = model_selection.ShuffleSplit(n_splits = 10, test_size = .3, train_size = .6, random_state = 0)\n",
    "    cv_results = model_selection.cross_validate(classifier[1], preprocessedDatasets[0], trainCopy['Survived'],\n",
    "                    cv  = cv_split, scoring = 'accuracy')\n",
    "    score = cv_results['test_score'].max()\n",
    "    scoresDict[classifier[0]] = score\n",
    "    print('    ' + classifier[0] + ': ' + str(score) + ', Mean: ' + str(cv_results['test_score'].mean()) + ', Min: ' + str(cv_results['test_score'].min()))\n",
    "    #print(cv_results)\n",
    "    results.append((classifier[0], cv_results))\n",
    "    #print('\\n\\n')"
   ]
  },
  {
   "cell_type": "code",
   "execution_count": 21,
   "id": "7cd1c978",
   "metadata": {},
   "outputs": [],
   "source": [
    "plotInfo = {'classifierNum' : [], 'fitTimeMax' : [], 'scoreTimeMax' : [], 'testScoreMax' : [],\n",
    "            'fitTimeMean' : [], 'scoreTimeMean' : [], 'testScoreMean' : [], 'labels' : []}\n",
    "for index, result in enumerate(results):\n",
    "    plotInfo['classifierNum'].append(index)\n",
    "    plotInfo['fitTimeMax'].append(result[1]['fit_time'].max())\n",
    "    plotInfo['fitTimeMean'].append(result[1]['fit_time'].mean())\n",
    "    plotInfo['scoreTimeMax'].append(result[1]['score_time'].max())\n",
    "    plotInfo['scoreTimeMean'].append(result[1]['score_time'].mean())\n",
    "    plotInfo['testScoreMax'].append(result[1]['test_score'].max())\n",
    "    plotInfo['testScoreMean'].append(result[1]['test_score'].mean())\n",
    "    plotInfo['labels'].append(result[0])"
   ]
  },
  {
   "cell_type": "code",
   "execution_count": 22,
   "id": "df7d2347",
   "metadata": {},
   "outputs": [
    {
     "data": {
      "image/png": "[encoded data removed]",
      "text/plain": [
       "<Figure size 432x288 with 1 Axes>"
      ]
     },
     "metadata": {
      "needs_background": "light"
     },
     "output_type": "display_data"
    },
    {
     "data": {
      "image/png": "[encoded data removed]",
      "text/plain": [
       "<Figure size 432x288 with 1 Axes>"
      ]
     },
     "metadata": {
      "needs_background": "light"
     },
     "output_type": "display_data"
    },
    {
     "data": {
      "image/png": "[encoded data removed]",
      "text/plain": [
       "<Figure size 432x288 with 1 Axes>"
      ]
     },
     "metadata": {
      "needs_background": "light"
     },
     "output_type": "display_data"
    }
   ],
   "source": [
    "# Plot Test Scores\n",
    "plt.bar(plotInfo['labels'], plotInfo['testScoreMax'], color='r', alpha=0.8, label='Max')\n",
    "plt.bar(plotInfo['labels'], plotInfo['testScoreMean'], color='b', alpha=0.8, label='Mean')\n",
    "plt.title('Maximum and Mean Test Scores')\n",
    "plt.ylabel('Score')\n",
    "plt.yticks(ticks=np.arange(0, 1.1, 0.1))\n",
    "plt.xticks(rotation = 90)\n",
    "plt.legend(bbox_to_anchor=(1, 1), loc=2, borderaxespad=0.5)\n",
    "plt.show()\n",
    "\n",
    "# Plot Fit Times\n",
    "plt.bar(plotInfo['labels'], plotInfo['fitTimeMax'], color='r', alpha=0.8, label='Max')\n",
    "plt.bar(plotInfo['labels'], plotInfo['fitTimeMean'], color='b', alpha=0.8, label='Mean')\n",
    "plt.title('Maximum and Mean Fit Times')\n",
    "plt.ylabel('Seconds')\n",
    "plt.xticks(rotation = 90)\n",
    "plt.legend(bbox_to_anchor=(1, 1), loc=2, borderaxespad=0.5)\n",
    "plt.show()\n",
    "\n",
    "# Plot Score Times\n",
    "plt.bar(plotInfo['labels'], plotInfo['scoreTimeMax'], color='r', alpha=0.8, label='Max')\n",
    "plt.bar(plotInfo['labels'], plotInfo['scoreTimeMean'], color='b', alpha=0.8, label='Mean')\n",
    "plt.title('Maximum and Mean Score Times')\n",
    "plt.ylabel('Seconds')\n",
    "plt.xticks(rotation = 90)\n",
    "plt.legend(bbox_to_anchor=(1, 1), loc=2, borderaxespad=0.5)\n",
    "plt.show()"
   ]
  },
  {
   "cell_type": "code",
   "execution_count": 23,
   "id": "ca34a892",
   "metadata": {},
   "outputs": [
    {
     "name": "stdout",
     "output_type": "stream",
     "text": [
      "AdaBoost\n"
     ]
    }
   ],
   "source": [
    "ada_boost_predictions = classifiers[7][1].fit(preprocessedDatasets[0], trainCopy['Survived']).predict(preprocessedDatasets[0])\n",
    "print(classifiers[7][0])"
   ]
  },
  {
   "cell_type": "code",
   "execution_count": 24,
   "id": "1dab46fd",
   "metadata": {},
   "outputs": [
    {
     "name": "stdout",
     "output_type": "stream",
     "text": [
      "Confusion matrix, without normalization\n",
      "[[483  66]\n",
      " [ 75 267]]\n",
      "Normalized confusion matrix\n",
      "[[0.88 0.12]\n",
      " [0.22 0.78]]\n"
     ]
    },
    {
     "data": {
      "image/png": "[encoded data removed]",
      "text/plain": [
       "<Figure size 432x288 with 2 Axes>"
      ]
     },
     "metadata": {
      "needs_background": "light"
     },
     "output_type": "display_data"
    },
    {
     "data": {
      "image/png": "[encoded data removed]",
      "text/plain": [
       "<Figure size 432x288 with 2 Axes>"
      ]
     },
     "metadata": {
      "needs_background": "light"
     },
     "output_type": "display_data"
    }
   ],
   "source": [
    "#Plot Accuracy Summary\n",
    "#Credit: http://scikit-learn.org/stable/auto_examples/model_selection/plot_confusion_matrix.html\n",
    "import itertools\n",
    "def plot_confusion_matrix(cm, classes,\n",
    "                          normalize=False,\n",
    "                          title='Confusion matrix',\n",
    "                          cmap=plt.cm.Greens):\n",
    "    if normalize:\n",
    "        cm = cm.astype('float') / cm.sum(axis=1)[:, np.newaxis]\n",
    "        print(\"Normalized confusion matrix\")\n",
    "    else:\n",
    "        print('Confusion matrix, without normalization')\n",
    "\n",
    "    print(cm)\n",
    "\n",
    "    plt.imshow(cm, interpolation='nearest', cmap=cmap)\n",
    "    plt.title(title)\n",
    "    plt.colorbar()\n",
    "    tick_marks = np.arange(len(classes))\n",
    "    plt.xticks(tick_marks, classes, rotation=45)\n",
    "    plt.yticks(tick_marks, classes)\n",
    "\n",
    "    fmt = '.2f' if normalize else 'd'\n",
    "    thresh = cm.max() / 2.\n",
    "    for i, j in itertools.product(range(cm.shape[0]), range(cm.shape[1])):\n",
    "        plt.text(j, i, format(cm[i, j], fmt),\n",
    "                 horizontalalignment=\"center\",\n",
    "                 color=\"white\" if cm[i, j] > thresh else \"black\")\n",
    "\n",
    "    plt.tight_layout()\n",
    "    plt.ylabel('True label')\n",
    "    plt.xlabel('Predicted label')\n",
    "\n",
    "# Compute confusion matrix\n",
    "cnf_matrix = metrics.confusion_matrix(trainCopy['Survived'], ada_boost_predictions)\n",
    "np.set_printoptions(precision=2)\n",
    "\n",
    "class_names = ['Dead', 'Survived']\n",
    "# Plot non-normalized confusion matrix\n",
    "plt.figure()\n",
    "plot_confusion_matrix(cnf_matrix, classes=class_names,\n",
    "                      title='Confusion matrix, without normalization')\n",
    "\n",
    "# Plot normalized confusion matrix\n",
    "plt.figure()\n",
    "plot_confusion_matrix(cnf_matrix, classes=class_names, normalize=True, \n",
    "                      title='Normalized confusion matrix')"
   ]
  },
  {
   "cell_type": "code",
   "execution_count": 25,
   "id": "33ae7e2e",
   "metadata": {},
   "outputs": [],
   "source": [
    "# Uncomment to save .csv of all results\n",
    "#finalDF.to_csv(path_or_buf='modelSummary ' + datetime.datetime.now().strftime(\"%Y-%m-%d at %H.%M.%S\") + '.csv', header=True, index=False, mode='w')"
   ]
  },
  {
   "cell_type": "code",
   "execution_count": 26,
   "id": "e6c29656",
   "metadata": {},
   "outputs": [],
   "source": [
    "# Result DataFrame to .csv for Kaggle Submission\n",
    "# Uncomment and specify classifier number to use to save to .csv\n",
    "#resultDFs[10][1].to_csv(path_or_buf='kaggle_submission ' + datetime.datetime.now().strftime(\"%Y-%m-%d at %H.%M.%S\") + '.csv', header=True, index=False, mode='w')\n",
    "#print(resultDFs[10][0])"
   ]
  },
  {
   "cell_type": "code",
   "execution_count": 27,
   "id": "8a8da54b",
   "metadata": {},
   "outputs": [
    {
     "data": {
      "text/plain": [
       "<matplotlib.legend.Legend at 0x7fa888256af0>"
      ]
     },
     "execution_count": 27,
     "metadata": {},
     "output_type": "execute_result"
    },
    {
     "data": {
      "image/png": "[encoded data removed]",
      "text/plain": [
       "<Figure size 1152x864 with 3 Axes>"
      ]
     },
     "metadata": {
      "needs_background": "light"
     },
     "output_type": "display_data"
    }
   ],
   "source": [
    "plt.figure(figsize=[16,12])\n",
    "\n",
    "plt.subplot(234)\n",
    "plt.hist(x = [trainCopy[trainCopy['Survived']==1]['Pclass'], trainCopy[trainCopy['Survived']==0]['Pclass']], \n",
    "         stacked=True, color = ['g','r'],label = ['Survived','Dead'])\n",
    "plt.title('Survival by Passenger Class')\n",
    "plt.xlabel('Pclass')\n",
    "plt.ylabel('# of Passengers')\n",
    "plt.legend()\n",
    "\n",
    "plt.subplot(235)\n",
    "plt.hist(x = [trainCopy[trainCopy['Survived']==1]['Age'], trainCopy[trainCopy['Survived']==0]['Age']], \n",
    "         stacked=True, color = ['g','r'],label = ['Survived','Dead'])\n",
    "plt.title('Survival by Age')\n",
    "plt.xlabel('Age (Years)')\n",
    "plt.ylabel('# of Passengers')\n",
    "plt.legend()\n",
    "\n",
    "plt.subplot(236)\n",
    "plt.hist(x = [trainCopy[trainCopy['Survived']==1]['Sex'], trainCopy[trainCopy['Survived']==0]['Sex']], \n",
    "         stacked=True, color = ['g','r'],label = ['Survived','Dead'])\n",
    "plt.title('Sex Survival')\n",
    "plt.xlabel('Sex (Male or Female)')\n",
    "plt.ylabel('# of Passengers')\n",
    "plt.legend()"
   ]
  },
  {
   "cell_type": "code",
   "execution_count": 28,
   "id": "53f52eb9",
   "metadata": {
    "scrolled": false
   },
   "outputs": [
    {
     "name": "stdout",
     "output_type": "stream",
     "text": [
      "1       1\n",
      "861     1\n",
      "879     1\n",
      "878     1\n",
      "877     1\n",
      "       ..\n",
      "436     1\n",
      "435     1\n",
      "434     1\n",
      "433     1\n",
      "1309    1\n",
      "Name: PassengerId, Length: 1309, dtype: int64\n",
      "\n",
      "\n",
      "0.0    549\n",
      "1.0    342\n",
      "Name: Survived, dtype: int64\n",
      "\n",
      "\n",
      "3    709\n",
      "1    323\n",
      "2    277\n",
      "Name: Pclass, dtype: int64\n",
      "\n",
      "\n",
      "Connolly, Miss. Kate                                   2\n",
      "Kelly, Mr. James                                       2\n",
      "Braund, Mr. Owen Harris                                1\n",
      "Johnson, Master. Harold Theodor                        1\n",
      "Gustafsson, Mr. Alfred Ossian                          1\n",
      "                                                      ..\n",
      "Carter, Miss. Lucile Polk                              1\n",
      "Silvey, Mr. William Baird                              1\n",
      "Kallio, Mr. Nikolai Erland                             1\n",
      "Louch, Mrs. Charles Alexander (Alice Adelaide Slow)    1\n",
      "Peter, Master. Michael J                               1\n",
      "Name: Name, Length: 1307, dtype: int64\n",
      "\n",
      "\n",
      "male      843\n",
      "female    466\n",
      "Name: Sex, dtype: int64\n",
      "\n",
      "\n",
      "24.0    47\n",
      "22.0    43\n",
      "21.0    41\n",
      "30.0    40\n",
      "18.0    39\n",
      "        ..\n",
      "23.5     1\n",
      "70.5     1\n",
      "55.5     1\n",
      "20.5     1\n",
      "38.5     1\n",
      "Name: Age, Length: 98, dtype: int64\n",
      "\n",
      "\n",
      "0    891\n",
      "1    319\n",
      "2     42\n",
      "4     22\n",
      "3     20\n",
      "8      9\n",
      "5      6\n",
      "Name: SibSp, dtype: int64\n",
      "\n",
      "\n",
      "0    1002\n",
      "1     170\n",
      "2     113\n",
      "3       8\n",
      "5       6\n",
      "4       6\n",
      "6       2\n",
      "9       2\n",
      "Name: Parch, dtype: int64\n",
      "\n",
      "\n",
      "CA. 2343        11\n",
      "CA 2144          8\n",
      "1601             8\n",
      "PC 17608         7\n",
      "S.O.C. 14879     7\n",
      "                ..\n",
      "113792           1\n",
      "36209            1\n",
      "323592           1\n",
      "315089           1\n",
      "359309           1\n",
      "Name: Ticket, Length: 929, dtype: int64\n",
      "\n",
      "\n",
      "8.0500     60\n",
      "13.0000    59\n",
      "7.7500     55\n",
      "26.0000    50\n",
      "7.8958     49\n",
      "           ..\n",
      "7.7417      1\n",
      "8.1583      1\n",
      "8.4583      1\n",
      "7.8000      1\n",
      "7.7208      1\n",
      "Name: Fare, Length: 281, dtype: int64\n",
      "\n",
      "\n",
      "C23 C25 C27        6\n",
      "G6                 5\n",
      "B57 B59 B63 B66    5\n",
      "C22 C26            4\n",
      "F33                4\n",
      "                  ..\n",
      "A14                1\n",
      "E63                1\n",
      "E12                1\n",
      "E38                1\n",
      "C105               1\n",
      "Name: Cabin, Length: 186, dtype: int64\n",
      "\n",
      "\n",
      "S    914\n",
      "C    270\n",
      "Q    123\n",
      "Name: Embarked, dtype: int64\n",
      "\n",
      "\n"
     ]
    }
   ],
   "source": [
    "combinedDF = trainData.append(testData)\n",
    "for col in combinedDF.columns:\n",
    "    print(combinedDF[col].value_counts())\n",
    "    print('\\n')"
   ]
  },
  {
   "cell_type": "code",
   "execution_count": null,
   "id": "ab871cf1",
   "metadata": {},
   "outputs": [],
   "source": []
  }
 ],
 "metadata": {
  "kernelspec": {
   "display_name": "Python 3 (ipykernel)",
   "language": "python",
   "name": "python3"
  },
  "language_info": {
   "codemirror_mode": {
    "name": "ipython",
    "version": 3
   },
   "file_extension": ".py",
   "mimetype": "text/x-python",
   "name": "python",
   "nbconvert_exporter": "python",
   "pygments_lexer": "ipython3",
   "version": "3.9.7"
  }
 },
 "nbformat": 4,
 "nbformat_minor": 5
}
